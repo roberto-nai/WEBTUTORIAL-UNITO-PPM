{
 "cells": [
  {
   "cell_type": "code",
   "execution_count": 386,
   "metadata": {},
   "outputs": [
    {
     "data": {
      "text/plain": [
       "'\\n01_log_clean.ipynb\\n[02-02-2025]: removed Q_27 (Age) and Q_28 (Gender) from features\\n[02-02-2025]: TotalTimeMM from features\\n'"
      ]
     },
     "execution_count": 386,
     "metadata": {},
     "output_type": "execute_result"
    }
   ],
   "source": [
    "\"\"\"\n",
    "01_log_clean.ipynb\n",
    "[02-02-2025]: removed Q_27 (Age) and Q_28 (Gender) from features\n",
    "[02-02-2025]: TotalTimeMM from features\n",
    "\"\"\""
   ]
  },
  {
   "cell_type": "markdown",
   "metadata": {},
   "source": [
    "# Event log cleaning, prefix extraction and encoding"
   ]
  },
  {
   "cell_type": "code",
   "execution_count": 387,
   "metadata": {},
   "outputs": [],
   "source": [
    "### IMPORT ###\n",
    "from pathlib import Path\n",
    "import pandas as pd\n",
    "from datetime import datetime\n",
    "import matplotlib.pyplot as plt\n",
    "\n",
    "### LOCAL IMPORT ###\n",
    "from config import config_reader\n",
    "from utilities import create_directories_with_gitkeep"
   ]
  },
  {
   "cell_type": "code",
   "execution_count": 388,
   "metadata": {},
   "outputs": [],
   "source": [
    "### GLOBALS ###\n",
    "yaml_config = config_reader.config_read_yaml(\"config.yml\", \"config\")\n",
    "log_dir = str(yaml_config[\"LOG_DIR\"])\n",
    "csv_sep = str(yaml_config[\"CSV_SEP\"])\n",
    "\n",
    "# INPUT\n",
    "level_input = \"PAGE\" # [PAGE, PARA]\n",
    "log_file = \"edu_event_log_LEVEL_raw_filtered_DISCO_ter_enr_no_SURVEY.csv\" # The main file\n",
    "\n",
    "# Column (feature) names\n",
    "id_variable = \"Case ID\" \n",
    "event_variable = \"Activity\"\n",
    "timestamp_variable = \"Complete Timestamp\""
   ]
  },
  {
   "cell_type": "code",
   "execution_count": 389,
   "metadata": {},
   "outputs": [],
   "source": [
    "# INPUT\n",
    "target_variable = \"UEQ - Overall_Tercile\" # Target variable for the prediction"
   ]
  },
  {
   "cell_type": "code",
   "execution_count": 390,
   "metadata": {},
   "outputs": [],
   "source": [
    "# OUTPUT\n",
    "prefix_dir = str(yaml_config[\"PREFIX_DIR\"])"
   ]
  },
  {
   "cell_type": "markdown",
   "metadata": {},
   "source": [
    "## FUNCTIONS"
   ]
  },
  {
   "cell_type": "code",
   "execution_count": 391,
   "metadata": {},
   "outputs": [],
   "source": [
    "def compute_target_distribution(df: pd.DataFrame, target_variable: str) -> pd.DataFrame:\n",
    "    \"\"\"\n",
    "    Computes the distribution of values in the specified target variable, including NaN as a separate category.\n",
    "\n",
    "    Parameters:\n",
    "        df (pd.DataFrame): The input DataFrame containing the target variable.\n",
    "        target_variable (str): The name of the column for which the distribution is to be calculated.\n",
    "\n",
    "    Returns:\n",
    "        pd.DataFrame: A DataFrame with three columns:\n",
    "            - target_variable: Unique values from the target variable, including NaN if present.\n",
    "            - count: The frequency of each unique value.\n",
    "            - percentage: The percentage representation of each unique value relative to the total number of rows.\n",
    "    \"\"\"\n",
    "    # Calculate the distribution of values in the target_variable column, including NaN as a separate category\n",
    "    df_target_distribution = df[target_variable].value_counts(dropna=False).reset_index()\n",
    "    df_target_distribution.columns = [target_variable, 'count']  # Rename columns for clarity\n",
    "\n",
    "    # Add a percentage column to indicate the proportion of each value\n",
    "    df_target_distribution['percentage'] = round(df_target_distribution['count'] / len(df), 2) * 100\n",
    "\n",
    "    return df_target_distribution"
   ]
  },
  {
   "cell_type": "code",
   "execution_count": 392,
   "metadata": {},
   "outputs": [],
   "source": [
    "def plot_histogram(df: pd.DataFrame, label_column: str, value_column: str) -> None:\n",
    "    \"\"\"\n",
    "    Plot a histogram with labels on the x-axis and their corresponding values on the y-axis.\n",
    "\n",
    "    Parameters:\n",
    "        df (pd.DataFrame): The dataframe containing the data.\n",
    "        label_column (str): The name of the column containing labels for the x-axis.\n",
    "        value_column (str): The name of the column containing values for the y-axis.\n",
    "    \"\"\"\n",
    "    # Ensure the value column contains numeric data\n",
    "    if not pd.api.types.is_numeric_dtype(df[value_column]):\n",
    "        raise ValueError(f\"The column '{value_column}' must contain numeric data.\")\n",
    "\n",
    "    # Create the plot\n",
    "    plt.figure(figsize=(10, 6))\n",
    "    plt.bar(df[label_column], df[value_column], alpha=0.7, edgecolor='black')\n",
    "    \n",
    "    # Adding labels and title\n",
    "    plt.xlabel(label_column)\n",
    "    plt.ylabel(value_column)\n",
    "    plt.title(f\"Histogram of '{label_column}' vs {value_column}\")\n",
    "    plt.xticks(rotation=45, ha='right')\n",
    "    plt.grid(axis='y', linestyle='--', alpha=0.7)\n",
    "    \n",
    "    # Show the plot\n",
    "    plt.tight_layout()\n",
    "    plt.show()"
   ]
  },
  {
   "cell_type": "markdown",
   "metadata": {},
   "source": [
    "## MAIN"
   ]
  },
  {
   "cell_type": "code",
   "execution_count": 393,
   "metadata": {},
   "outputs": [
    {
     "name": "stdout",
     "output_type": "stream",
     "text": [
      "\n",
      "*** PROGRAM START ***\n",
      "\n"
     ]
    }
   ],
   "source": [
    "print()\n",
    "print(\"*** PROGRAM START ***\")\n",
    "print()"
   ]
  },
  {
   "cell_type": "code",
   "execution_count": 394,
   "metadata": {},
   "outputs": [
    {
     "name": "stdout",
     "output_type": "stream",
     "text": [
      "Start process: 2025-02-06 09:30:33\n",
      "\n"
     ]
    }
   ],
   "source": [
    "start_time = datetime.now().replace(microsecond=0)\n",
    "print(\"Start process:\", str(start_time))\n",
    "print()"
   ]
  },
  {
   "cell_type": "code",
   "execution_count": 395,
   "metadata": {},
   "outputs": [
    {
     "name": "stdout",
     "output_type": "stream",
     "text": [
      "> Settings\n",
      "CSV separator: ,\n",
      "Input level: PAGE\n",
      "Input file: edu_event_log_PAGE_raw_filtered_DISCO_ter_enr_no_SURVEY.csv\n",
      "Path file: data_log/edu_event_log_PAGE_raw_filtered_DISCO_ter_enr_no_SURVEY.csv\n"
     ]
    }
   ],
   "source": [
    "print(\"> Settings\")\n",
    "# print(yaml_config) # debug\n",
    "print(\"CSV separator:\", csv_sep)\n",
    "print(\"Input level:\", level_input)\n",
    "log_file_name = log_file.replace(\"LEVEL\", level_input)\n",
    "print(\"Input file:\", log_file_name)\n",
    "path_log_file = Path(log_dir) /log_file_name \n",
    "print(\"Path file:\", path_log_file)"
   ]
  },
  {
   "cell_type": "code",
   "execution_count": 396,
   "metadata": {},
   "outputs": [
    {
     "name": "stdout",
     "output_type": "stream",
     "text": [
      ">> Creating output directories\n",
      "Directory 'data_prefix' and .gitkeep file created\n"
     ]
    }
   ],
   "source": [
    "print(\">> Creating output directories\")\n",
    "dir_output = []\n",
    "dir_output.append(prefix_dir)\n",
    "create_directories_with_gitkeep(dir_output)"
   ]
  },
  {
   "cell_type": "code",
   "execution_count": 397,
   "metadata": {},
   "outputs": [
    {
     "name": "stdout",
     "output_type": "stream",
     "text": [
      "> Reading event log\n",
      "Input event log column types: {'Case ID': <class 'object'>}\n",
      "Distinct cases read: 332\n",
      "Dataframe shape: (7399, 74)\n"
     ]
    }
   ],
   "source": [
    "print(\"> Reading event log\")\n",
    "# Column (feature) types\n",
    "dic_t = {id_variable:object}\n",
    "print(\"Input event log column types:\", dic_t)\n",
    "df_log = pd.read_csv(path_log_file, dtype=dic_t, sep=csv_sep, low_memory=False)\n",
    "print(\"Distinct cases read:\", df_log[id_variable].nunique())\n",
    "print(\"Dataframe shape:\", df_log.shape)"
   ]
  },
  {
   "cell_type": "code",
   "execution_count": 398,
   "metadata": {},
   "outputs": [
    {
     "data": {
      "text/html": [
       "<div>\n",
       "<style scoped>\n",
       "    .dataframe tbody tr th:only-of-type {\n",
       "        vertical-align: middle;\n",
       "    }\n",
       "\n",
       "    .dataframe tbody tr th {\n",
       "        vertical-align: top;\n",
       "    }\n",
       "\n",
       "    .dataframe thead th {\n",
       "        text-align: right;\n",
       "    }\n",
       "</style>\n",
       "<table border=\"1\" class=\"dataframe\">\n",
       "  <thead>\n",
       "    <tr style=\"text-align: right;\">\n",
       "      <th></th>\n",
       "      <th>Case ID</th>\n",
       "      <th>Activity</th>\n",
       "      <th>Complete Timestamp</th>\n",
       "      <th>pageTitle</th>\n",
       "      <th>menu</th>\n",
       "      <th>pageOrder</th>\n",
       "      <th>pagePara</th>\n",
       "      <th>eventPage</th>\n",
       "      <th>click_num</th>\n",
       "      <th>dbclick_num</th>\n",
       "      <th>...</th>\n",
       "      <th>FN_N</th>\n",
       "      <th>FN_Q</th>\n",
       "      <th>FN_A</th>\n",
       "      <th>FN_C</th>\n",
       "      <th>FN_I</th>\n",
       "      <th>FN_CT</th>\n",
       "      <th>A_Time_s</th>\n",
       "      <th>A_Time_m</th>\n",
       "      <th>Forward_Jumps</th>\n",
       "      <th>Backward_Jumps</th>\n",
       "    </tr>\n",
       "  </thead>\n",
       "  <tbody>\n",
       "    <tr>\n",
       "      <th>0</th>\n",
       "      <td>0HcsM5K14bTga4CpYETnQuMBKMrDBCQgHeGk48sRul6Pha...</td>\n",
       "      <td>INTRO</td>\n",
       "      <td>2024-04-22 14:11:42</td>\n",
       "      <td>INTRO</td>\n",
       "      <td>menu_1</td>\n",
       "      <td>1</td>\n",
       "      <td>0</td>\n",
       "      <td>PageIN</td>\n",
       "      <td>1</td>\n",
       "      <td>0</td>\n",
       "      <td>...</td>\n",
       "      <td>0.0</td>\n",
       "      <td>0.0</td>\n",
       "      <td>1.0</td>\n",
       "      <td>1.0</td>\n",
       "      <td>0.0</td>\n",
       "      <td>FA</td>\n",
       "      <td>530.0</td>\n",
       "      <td>8.83</td>\n",
       "      <td>0</td>\n",
       "      <td>0</td>\n",
       "    </tr>\n",
       "    <tr>\n",
       "      <th>1</th>\n",
       "      <td>0HcsM5K14bTga4CpYETnQuMBKMrDBCQgHeGk48sRul6Pha...</td>\n",
       "      <td>INTRO-Q</td>\n",
       "      <td>2024-04-22 14:20:32</td>\n",
       "      <td>INTRO-Q</td>\n",
       "      <td>menu_1</td>\n",
       "      <td>1</td>\n",
       "      <td>0</td>\n",
       "      <td>PageIN</td>\n",
       "      <td>1</td>\n",
       "      <td>0</td>\n",
       "      <td>...</td>\n",
       "      <td>0.0</td>\n",
       "      <td>0.0</td>\n",
       "      <td>1.0</td>\n",
       "      <td>1.0</td>\n",
       "      <td>0.0</td>\n",
       "      <td>FA</td>\n",
       "      <td>32.0</td>\n",
       "      <td>0.53</td>\n",
       "      <td>0</td>\n",
       "      <td>0</td>\n",
       "    </tr>\n",
       "    <tr>\n",
       "      <th>2</th>\n",
       "      <td>0HcsM5K14bTga4CpYETnQuMBKMrDBCQgHeGk48sRul6Pha...</td>\n",
       "      <td>PROG</td>\n",
       "      <td>2024-04-22 14:21:04</td>\n",
       "      <td>PROG</td>\n",
       "      <td>menu_1</td>\n",
       "      <td>2</td>\n",
       "      <td>0</td>\n",
       "      <td>PageIN</td>\n",
       "      <td>1</td>\n",
       "      <td>0</td>\n",
       "      <td>...</td>\n",
       "      <td>0.0</td>\n",
       "      <td>0.0</td>\n",
       "      <td>1.0</td>\n",
       "      <td>1.0</td>\n",
       "      <td>0.0</td>\n",
       "      <td>FA</td>\n",
       "      <td>233.0</td>\n",
       "      <td>3.88</td>\n",
       "      <td>0</td>\n",
       "      <td>0</td>\n",
       "    </tr>\n",
       "    <tr>\n",
       "      <th>3</th>\n",
       "      <td>0HcsM5K14bTga4CpYETnQuMBKMrDBCQgHeGk48sRul6Pha...</td>\n",
       "      <td>PROG-Q</td>\n",
       "      <td>2024-04-22 14:24:57</td>\n",
       "      <td>PROG-Q</td>\n",
       "      <td>menu_1</td>\n",
       "      <td>2</td>\n",
       "      <td>0</td>\n",
       "      <td>PageIN</td>\n",
       "      <td>1</td>\n",
       "      <td>0</td>\n",
       "      <td>...</td>\n",
       "      <td>0.0</td>\n",
       "      <td>0.0</td>\n",
       "      <td>1.0</td>\n",
       "      <td>1.0</td>\n",
       "      <td>0.0</td>\n",
       "      <td>FA</td>\n",
       "      <td>17.0</td>\n",
       "      <td>0.28</td>\n",
       "      <td>0</td>\n",
       "      <td>0</td>\n",
       "    </tr>\n",
       "    <tr>\n",
       "      <th>4</th>\n",
       "      <td>0HcsM5K14bTga4CpYETnQuMBKMrDBCQgHeGk48sRul6Pha...</td>\n",
       "      <td>VARS</td>\n",
       "      <td>2024-04-22 14:25:14</td>\n",
       "      <td>VARS</td>\n",
       "      <td>menu_1</td>\n",
       "      <td>3</td>\n",
       "      <td>0</td>\n",
       "      <td>PageIN</td>\n",
       "      <td>1</td>\n",
       "      <td>0</td>\n",
       "      <td>...</td>\n",
       "      <td>0.0</td>\n",
       "      <td>0.0</td>\n",
       "      <td>1.0</td>\n",
       "      <td>1.0</td>\n",
       "      <td>0.0</td>\n",
       "      <td>FA</td>\n",
       "      <td>119.0</td>\n",
       "      <td>1.98</td>\n",
       "      <td>0</td>\n",
       "      <td>0</td>\n",
       "    </tr>\n",
       "  </tbody>\n",
       "</table>\n",
       "<p>5 rows × 74 columns</p>\n",
       "</div>"
      ],
      "text/plain": [
       "                                             Case ID Activity  \\\n",
       "0  0HcsM5K14bTga4CpYETnQuMBKMrDBCQgHeGk48sRul6Pha...    INTRO   \n",
       "1  0HcsM5K14bTga4CpYETnQuMBKMrDBCQgHeGk48sRul6Pha...  INTRO-Q   \n",
       "2  0HcsM5K14bTga4CpYETnQuMBKMrDBCQgHeGk48sRul6Pha...     PROG   \n",
       "3  0HcsM5K14bTga4CpYETnQuMBKMrDBCQgHeGk48sRul6Pha...   PROG-Q   \n",
       "4  0HcsM5K14bTga4CpYETnQuMBKMrDBCQgHeGk48sRul6Pha...     VARS   \n",
       "\n",
       "    Complete Timestamp pageTitle    menu  pageOrder  pagePara eventPage  \\\n",
       "0  2024-04-22 14:11:42     INTRO  menu_1          1         0    PageIN   \n",
       "1  2024-04-22 14:20:32   INTRO-Q  menu_1          1         0    PageIN   \n",
       "2  2024-04-22 14:21:04      PROG  menu_1          2         0    PageIN   \n",
       "3  2024-04-22 14:24:57    PROG-Q  menu_1          2         0    PageIN   \n",
       "4  2024-04-22 14:25:14      VARS  menu_1          3         0    PageIN   \n",
       "\n",
       "   click_num  dbclick_num  ...  FN_N  FN_Q  FN_A  FN_C  FN_I  FN_CT  A_Time_s  \\\n",
       "0          1            0  ...   0.0   0.0   1.0   1.0   0.0     FA     530.0   \n",
       "1          1            0  ...   0.0   0.0   1.0   1.0   0.0     FA      32.0   \n",
       "2          1            0  ...   0.0   0.0   1.0   1.0   0.0     FA     233.0   \n",
       "3          1            0  ...   0.0   0.0   1.0   1.0   0.0     FA      17.0   \n",
       "4          1            0  ...   0.0   0.0   1.0   1.0   0.0     FA     119.0   \n",
       "\n",
       "   A_Time_m  Forward_Jumps  Backward_Jumps  \n",
       "0      8.83              0               0  \n",
       "1      0.53              0               0  \n",
       "2      3.88              0               0  \n",
       "3      0.28              0               0  \n",
       "4      1.98              0               0  \n",
       "\n",
       "[5 rows x 74 columns]"
      ]
     },
     "execution_count": 398,
     "metadata": {},
     "output_type": "execute_result"
    }
   ],
   "source": [
    "df_log.head(5)"
   ]
  },
  {
   "cell_type": "code",
   "execution_count": 399,
   "metadata": {},
   "outputs": [
    {
     "data": {
      "text/plain": [
       "Index(['Case ID', 'Activity', 'Complete Timestamp', 'pageTitle', 'menu',\n",
       "       'pageOrder', 'pagePara', 'eventPage', 'click_num', 'dbclick_num',\n",
       "       'QuizSessionCount', 'QuizAnswerCorrectTotal', 'QuizAnswerWrongTotal',\n",
       "       'QuizAnswerCorrectRatioOverCount', 'QuizAnswerCorrectRatioOverAll',\n",
       "       'QuizSessionCount_P3', 'QuizAnswerCorrectTotal_P3',\n",
       "       'QuizAnswerWrongTotal_P3', 'QuizAnswerCorrectRatioOverCount_P3',\n",
       "       'QuizAnswerCorrectRatioOverAll_P3', 'Q_1', 'Q_2', 'Q_3', 'Q_4', 'Q_5',\n",
       "       'Q_6', 'Q_7', 'Q_8', 'Q_9', 'Q_10', 'Q_11', 'Q_12', 'Q_13', 'Q_14',\n",
       "       'Q_15', 'Q_16', 'Q_17', 'Q_18', 'Q_19', 'Q_20', 'Q_21', 'Q_22', 'Q_23',\n",
       "       'Q_24', 'Q_25', 'Q_26', 'Q_27', 'Q_28', 'SUS',\n",
       "       'Apprendimento percepito', 'UEQ - Pragmatic', 'UEQ - Hedonic',\n",
       "       'UEQ - Overall', 'TotalTimeHH', 'TotalTimeMM', 'TotalTimeMM.1',\n",
       "       'TotalTimeDD', 'CaseLength', 'Class', 'SUS_Tercile',\n",
       "       'Apprendimento percepito_Tercile', 'UEQ - Overall_Tercile',\n",
       "       'QuizAnswerCorrectRatioOverAll_Tercile', 'Class_Count', 'FN_N', 'FN_Q',\n",
       "       'FN_A', 'FN_C', 'FN_I', 'FN_CT', 'A_Time_s', 'A_Time_m',\n",
       "       'Forward_Jumps', 'Backward_Jumps'],\n",
       "      dtype='object')"
      ]
     },
     "execution_count": 399,
     "metadata": {},
     "output_type": "execute_result"
    }
   ],
   "source": [
    "df_log.columns"
   ]
  },
  {
   "cell_type": "code",
   "execution_count": 400,
   "metadata": {},
   "outputs": [
    {
     "data": {
      "text/plain": [
       "Case ID                object\n",
       "Activity               object\n",
       "Complete Timestamp     object\n",
       "pageTitle              object\n",
       "menu                   object\n",
       "                       ...   \n",
       "FN_CT                  object\n",
       "A_Time_s              float64\n",
       "A_Time_m              float64\n",
       "Forward_Jumps           int64\n",
       "Backward_Jumps          int64\n",
       "Length: 74, dtype: object"
      ]
     },
     "execution_count": 400,
     "metadata": {},
     "output_type": "execute_result"
    }
   ],
   "source": [
    "df_log.dtypes"
   ]
  },
  {
   "cell_type": "code",
   "execution_count": 401,
   "metadata": {},
   "outputs": [
    {
     "name": "stdout",
     "output_type": "stream",
     "text": [
      "Distinct cases before cleaning: 332\n"
     ]
    }
   ],
   "source": [
    "print(\"Distinct cases before cleaning:\", df_log[id_variable].nunique())"
   ]
  },
  {
   "cell_type": "markdown",
   "metadata": {},
   "source": [
    "## Distribution of the target variable"
   ]
  },
  {
   "cell_type": "code",
   "execution_count": 402,
   "metadata": {},
   "outputs": [
    {
     "name": "stdout",
     "output_type": "stream",
     "text": [
      ">> Target variable\n",
      "Feature (column) name: UEQ - Overall_Tercile\n",
      "Distinct values: [1, 3, 2]\n"
     ]
    }
   ],
   "source": [
    "print(\">> Target variable\")\n",
    "print(\"Feature (column) name:\", target_variable)\n",
    "print(\"Distinct values:\", df_log[target_variable].unique().tolist())"
   ]
  },
  {
   "cell_type": "code",
   "execution_count": 403,
   "metadata": {},
   "outputs": [],
   "source": [
    "df_target_distribution = compute_target_distribution(df_log, target_variable)"
   ]
  },
  {
   "cell_type": "code",
   "execution_count": 404,
   "metadata": {},
   "outputs": [
    {
     "data": {
      "text/html": [
       "<div>\n",
       "<style scoped>\n",
       "    .dataframe tbody tr th:only-of-type {\n",
       "        vertical-align: middle;\n",
       "    }\n",
       "\n",
       "    .dataframe tbody tr th {\n",
       "        vertical-align: top;\n",
       "    }\n",
       "\n",
       "    .dataframe thead th {\n",
       "        text-align: right;\n",
       "    }\n",
       "</style>\n",
       "<table border=\"1\" class=\"dataframe\">\n",
       "  <thead>\n",
       "    <tr style=\"text-align: right;\">\n",
       "      <th></th>\n",
       "      <th>UEQ - Overall_Tercile</th>\n",
       "      <th>count</th>\n",
       "      <th>percentage</th>\n",
       "    </tr>\n",
       "  </thead>\n",
       "  <tbody>\n",
       "    <tr>\n",
       "      <th>0</th>\n",
       "      <td>2</td>\n",
       "      <td>2700</td>\n",
       "      <td>36.0</td>\n",
       "    </tr>\n",
       "    <tr>\n",
       "      <th>1</th>\n",
       "      <td>1</td>\n",
       "      <td>2642</td>\n",
       "      <td>36.0</td>\n",
       "    </tr>\n",
       "    <tr>\n",
       "      <th>2</th>\n",
       "      <td>3</td>\n",
       "      <td>2057</td>\n",
       "      <td>28.0</td>\n",
       "    </tr>\n",
       "  </tbody>\n",
       "</table>\n",
       "</div>"
      ],
      "text/plain": [
       "   UEQ - Overall_Tercile  count  percentage\n",
       "0                      2   2700        36.0\n",
       "1                      1   2642        36.0\n",
       "2                      3   2057        28.0"
      ]
     },
     "execution_count": 404,
     "metadata": {},
     "output_type": "execute_result"
    }
   ],
   "source": [
    "df_target_distribution"
   ]
  },
  {
   "cell_type": "code",
   "execution_count": 405,
   "metadata": {},
   "outputs": [
    {
     "data": {
      "image/png": "[encoded data removed]",
      "text/plain": [
       "<Figure size 1000x600 with 1 Axes>"
      ]
     },
     "metadata": {},
     "output_type": "display_data"
    }
   ],
   "source": [
    "plot_histogram(df_target_distribution, target_variable, \"percentage\")"
   ]
  },
  {
   "cell_type": "markdown",
   "metadata": {},
   "source": [
    "## Cleaning the event log"
   ]
  },
  {
   "cell_type": "code",
   "execution_count": 406,
   "metadata": {},
   "outputs": [
    {
     "name": "stdout",
     "output_type": "stream",
     "text": [
      ">> Cleaning the event log\n"
     ]
    }
   ],
   "source": [
    "print(\">> Cleaning the event log\")"
   ]
  },
  {
   "cell_type": "code",
   "execution_count": 407,
   "metadata": {},
   "outputs": [
    {
     "name": "stdout",
     "output_type": "stream",
     "text": [
      "> Removing cases where feature (column) 'UEQ - Overall_Tercile' is NaN\n",
      "Dataframe shape before cleaning: (7399, 74)\n",
      "Distinct before before cleaning: 332\n",
      "Dataframe shape after cleaning: (7399, 74)\n",
      "Distinct before after cleaning: 332\n"
     ]
    }
   ],
   "source": [
    "print(f\"> Removing cases where feature (column) '{target_variable}' is NaN\")\n",
    "print(\"Dataframe shape before cleaning:\", df_log.shape)\n",
    "print(\"Distinct before before cleaning:\", df_log[id_variable].nunique())\n",
    "df_log_clean = df_log.dropna(subset=[target_variable])\n",
    "print(\"Dataframe shape after cleaning:\", df_log_clean.shape)\n",
    "print(\"Distinct before after cleaning:\", df_log_clean[id_variable].nunique())"
   ]
  },
  {
   "cell_type": "code",
   "execution_count": 408,
   "metadata": {},
   "outputs": [
    {
     "name": "stdout",
     "output_type": "stream",
     "text": [
      "> Getting values at the prefix time\n"
     ]
    }
   ],
   "source": [
    "# Calculates partial values at the time of the prefix (e.g. ratio of correct quizzes)\n",
    "print(\"> Getting values at the prefix time\")\n"
   ]
  },
  {
   "cell_type": "code",
   "execution_count": 409,
   "metadata": {},
   "outputs": [
    {
     "name": "stdout",
     "output_type": "stream",
     "text": [
      "> Removing feature (column) not needed\n",
      "Columns in the dataframe after cleaning: Index(['Case ID', 'Activity', 'Complete Timestamp', 'pageTitle', 'click_num',\n",
      "       'dbclick_num', 'QuizSessionCount_P3', 'QuizAnswerCorrectTotal_P3',\n",
      "       'QuizAnswerWrongTotal_P3', 'QuizAnswerCorrectRatioOverCount_P3',\n",
      "       'QuizAnswerCorrectRatioOverAll_P3', 'Class', 'SUS_Tercile',\n",
      "       'Apprendimento percepito_Tercile', 'UEQ - Overall_Tercile',\n",
      "       'Class_Count', 'FN_N', 'FN_Q', 'FN_A', 'FN_C', 'FN_I', 'FN_CT',\n",
      "       'A_Time_s', 'A_Time_m', 'Forward_Jumps', 'Backward_Jumps'],\n",
      "      dtype='object')\n"
     ]
    }
   ],
   "source": [
    "print(\"> Removing feature (column) not needed\")\n",
    "\n",
    "# Define the list of columns to remove (also Q_27 Age and Q_28 Gender)\n",
    "columns_to_remove = [\n",
    "    \"pageOrder\", \"pagePara\", \"eventPage\", \"menu\", \"QuizSessionCount\", \"QuizAnswerCorrectTotal\",\n",
    "    \"QuizAnswerWrongTotal\", \"QuizAnswerCorrectRatioOverCount\", \"QuizAnswerCorrectRatioOverAll\", \"QuizAnswerCorrectRatioOverAll_Tercile\", \"Q_1\", \"Q_2\", \"Q_3\", \"Q_4\",\n",
    "    \"Q_5\", \"Q_6\", \"Q_7\", \"Q_8\", \"Q_9\", \"Q_10\", \"Q_11\", \"Q_12\", \"Q_13\", \"Q_14\", \"Q_15\", \"Q_16\",\n",
    "    \"Q_17\", \"Q_18\", \"Q_19\", \"Q_20\", \"Q_21\", \"Q_22\", \"Q_23\", \"Q_24\", \"Q_25\", \"Q_26\", \"Q_27\", \"Q_28\", \"TotalTimeMM\", \"SUS\", \"Apprendimento percepito\", \"UEQ - Pragmatic\", \"UEQ - Hedonic\", \"UEQ - Overall\",\n",
    "    \"TotalTimeHH\", \"TotalTimeDD\", \"CaseLength\", \"TotalTimeMM.1\"\n",
    "]\n",
    "\n",
    "# Remove columns from df_log_clean if they exist\n",
    "df_log_clean = df_log_clean.drop(columns=[col for col in columns_to_remove if col in df_log_clean.columns])\n",
    "print(\"Columns in the dataframe after cleaning:\", df_log_clean.columns)"
   ]
  },
  {
   "cell_type": "code",
   "execution_count": 410,
   "metadata": {},
   "outputs": [],
   "source": [
    "# print(\"> Renaming features (columns)\")\n",
    "# df_log_clean = df_log_clean.rename(columns={'Q_27': 'Age', 'Q_28': 'Gender'})"
   ]
  },
  {
   "cell_type": "code",
   "execution_count": 411,
   "metadata": {},
   "outputs": [
    {
     "data": {
      "text/html": [
       "<div>\n",
       "<style scoped>\n",
       "    .dataframe tbody tr th:only-of-type {\n",
       "        vertical-align: middle;\n",
       "    }\n",
       "\n",
       "    .dataframe tbody tr th {\n",
       "        vertical-align: top;\n",
       "    }\n",
       "\n",
       "    .dataframe thead th {\n",
       "        text-align: right;\n",
       "    }\n",
       "</style>\n",
       "<table border=\"1\" class=\"dataframe\">\n",
       "  <thead>\n",
       "    <tr style=\"text-align: right;\">\n",
       "      <th></th>\n",
       "      <th>Case ID</th>\n",
       "      <th>Activity</th>\n",
       "      <th>Complete Timestamp</th>\n",
       "      <th>pageTitle</th>\n",
       "      <th>click_num</th>\n",
       "      <th>dbclick_num</th>\n",
       "      <th>QuizSessionCount_P3</th>\n",
       "      <th>QuizAnswerCorrectTotal_P3</th>\n",
       "      <th>QuizAnswerWrongTotal_P3</th>\n",
       "      <th>QuizAnswerCorrectRatioOverCount_P3</th>\n",
       "      <th>...</th>\n",
       "      <th>FN_N</th>\n",
       "      <th>FN_Q</th>\n",
       "      <th>FN_A</th>\n",
       "      <th>FN_C</th>\n",
       "      <th>FN_I</th>\n",
       "      <th>FN_CT</th>\n",
       "      <th>A_Time_s</th>\n",
       "      <th>A_Time_m</th>\n",
       "      <th>Forward_Jumps</th>\n",
       "      <th>Backward_Jumps</th>\n",
       "    </tr>\n",
       "  </thead>\n",
       "  <tbody>\n",
       "    <tr>\n",
       "      <th>0</th>\n",
       "      <td>0HcsM5K14bTga4CpYETnQuMBKMrDBCQgHeGk48sRul6Pha...</td>\n",
       "      <td>INTRO</td>\n",
       "      <td>2024-04-22 14:11:42</td>\n",
       "      <td>INTRO</td>\n",
       "      <td>1</td>\n",
       "      <td>0</td>\n",
       "      <td>3.0</td>\n",
       "      <td>2.0</td>\n",
       "      <td>1.0</td>\n",
       "      <td>0.67</td>\n",
       "      <td>...</td>\n",
       "      <td>0.0</td>\n",
       "      <td>0.0</td>\n",
       "      <td>1.0</td>\n",
       "      <td>1.0</td>\n",
       "      <td>0.0</td>\n",
       "      <td>FA</td>\n",
       "      <td>530.0</td>\n",
       "      <td>8.83</td>\n",
       "      <td>0</td>\n",
       "      <td>0</td>\n",
       "    </tr>\n",
       "    <tr>\n",
       "      <th>1</th>\n",
       "      <td>0HcsM5K14bTga4CpYETnQuMBKMrDBCQgHeGk48sRul6Pha...</td>\n",
       "      <td>INTRO-Q</td>\n",
       "      <td>2024-04-22 14:20:32</td>\n",
       "      <td>INTRO-Q</td>\n",
       "      <td>1</td>\n",
       "      <td>0</td>\n",
       "      <td>3.0</td>\n",
       "      <td>2.0</td>\n",
       "      <td>1.0</td>\n",
       "      <td>0.67</td>\n",
       "      <td>...</td>\n",
       "      <td>0.0</td>\n",
       "      <td>0.0</td>\n",
       "      <td>1.0</td>\n",
       "      <td>1.0</td>\n",
       "      <td>0.0</td>\n",
       "      <td>FA</td>\n",
       "      <td>32.0</td>\n",
       "      <td>0.53</td>\n",
       "      <td>0</td>\n",
       "      <td>0</td>\n",
       "    </tr>\n",
       "    <tr>\n",
       "      <th>2</th>\n",
       "      <td>0HcsM5K14bTga4CpYETnQuMBKMrDBCQgHeGk48sRul6Pha...</td>\n",
       "      <td>PROG</td>\n",
       "      <td>2024-04-22 14:21:04</td>\n",
       "      <td>PROG</td>\n",
       "      <td>1</td>\n",
       "      <td>0</td>\n",
       "      <td>3.0</td>\n",
       "      <td>2.0</td>\n",
       "      <td>1.0</td>\n",
       "      <td>0.67</td>\n",
       "      <td>...</td>\n",
       "      <td>0.0</td>\n",
       "      <td>0.0</td>\n",
       "      <td>1.0</td>\n",
       "      <td>1.0</td>\n",
       "      <td>0.0</td>\n",
       "      <td>FA</td>\n",
       "      <td>233.0</td>\n",
       "      <td>3.88</td>\n",
       "      <td>0</td>\n",
       "      <td>0</td>\n",
       "    </tr>\n",
       "    <tr>\n",
       "      <th>3</th>\n",
       "      <td>0HcsM5K14bTga4CpYETnQuMBKMrDBCQgHeGk48sRul6Pha...</td>\n",
       "      <td>PROG-Q</td>\n",
       "      <td>2024-04-22 14:24:57</td>\n",
       "      <td>PROG-Q</td>\n",
       "      <td>1</td>\n",
       "      <td>0</td>\n",
       "      <td>3.0</td>\n",
       "      <td>2.0</td>\n",
       "      <td>1.0</td>\n",
       "      <td>0.67</td>\n",
       "      <td>...</td>\n",
       "      <td>0.0</td>\n",
       "      <td>0.0</td>\n",
       "      <td>1.0</td>\n",
       "      <td>1.0</td>\n",
       "      <td>0.0</td>\n",
       "      <td>FA</td>\n",
       "      <td>17.0</td>\n",
       "      <td>0.28</td>\n",
       "      <td>0</td>\n",
       "      <td>0</td>\n",
       "    </tr>\n",
       "    <tr>\n",
       "      <th>4</th>\n",
       "      <td>0HcsM5K14bTga4CpYETnQuMBKMrDBCQgHeGk48sRul6Pha...</td>\n",
       "      <td>VARS</td>\n",
       "      <td>2024-04-22 14:25:14</td>\n",
       "      <td>VARS</td>\n",
       "      <td>1</td>\n",
       "      <td>0</td>\n",
       "      <td>3.0</td>\n",
       "      <td>2.0</td>\n",
       "      <td>1.0</td>\n",
       "      <td>0.67</td>\n",
       "      <td>...</td>\n",
       "      <td>0.0</td>\n",
       "      <td>0.0</td>\n",
       "      <td>1.0</td>\n",
       "      <td>1.0</td>\n",
       "      <td>0.0</td>\n",
       "      <td>FA</td>\n",
       "      <td>119.0</td>\n",
       "      <td>1.98</td>\n",
       "      <td>0</td>\n",
       "      <td>0</td>\n",
       "    </tr>\n",
       "  </tbody>\n",
       "</table>\n",
       "<p>5 rows × 26 columns</p>\n",
       "</div>"
      ],
      "text/plain": [
       "                                             Case ID Activity  \\\n",
       "0  0HcsM5K14bTga4CpYETnQuMBKMrDBCQgHeGk48sRul6Pha...    INTRO   \n",
       "1  0HcsM5K14bTga4CpYETnQuMBKMrDBCQgHeGk48sRul6Pha...  INTRO-Q   \n",
       "2  0HcsM5K14bTga4CpYETnQuMBKMrDBCQgHeGk48sRul6Pha...     PROG   \n",
       "3  0HcsM5K14bTga4CpYETnQuMBKMrDBCQgHeGk48sRul6Pha...   PROG-Q   \n",
       "4  0HcsM5K14bTga4CpYETnQuMBKMrDBCQgHeGk48sRul6Pha...     VARS   \n",
       "\n",
       "    Complete Timestamp pageTitle  click_num  dbclick_num  QuizSessionCount_P3  \\\n",
       "0  2024-04-22 14:11:42     INTRO          1            0                  3.0   \n",
       "1  2024-04-22 14:20:32   INTRO-Q          1            0                  3.0   \n",
       "2  2024-04-22 14:21:04      PROG          1            0                  3.0   \n",
       "3  2024-04-22 14:24:57    PROG-Q          1            0                  3.0   \n",
       "4  2024-04-22 14:25:14      VARS          1            0                  3.0   \n",
       "\n",
       "   QuizAnswerCorrectTotal_P3  QuizAnswerWrongTotal_P3  \\\n",
       "0                        2.0                      1.0   \n",
       "1                        2.0                      1.0   \n",
       "2                        2.0                      1.0   \n",
       "3                        2.0                      1.0   \n",
       "4                        2.0                      1.0   \n",
       "\n",
       "   QuizAnswerCorrectRatioOverCount_P3  ...  FN_N FN_Q  FN_A  FN_C  FN_I  \\\n",
       "0                                0.67  ...   0.0  0.0   1.0   1.0   0.0   \n",
       "1                                0.67  ...   0.0  0.0   1.0   1.0   0.0   \n",
       "2                                0.67  ...   0.0  0.0   1.0   1.0   0.0   \n",
       "3                                0.67  ...   0.0  0.0   1.0   1.0   0.0   \n",
       "4                                0.67  ...   0.0  0.0   1.0   1.0   0.0   \n",
       "\n",
       "   FN_CT  A_Time_s  A_Time_m  Forward_Jumps  Backward_Jumps  \n",
       "0     FA     530.0      8.83              0               0  \n",
       "1     FA      32.0      0.53              0               0  \n",
       "2     FA     233.0      3.88              0               0  \n",
       "3     FA      17.0      0.28              0               0  \n",
       "4     FA     119.0      1.98              0               0  \n",
       "\n",
       "[5 rows x 26 columns]"
      ]
     },
     "execution_count": 411,
     "metadata": {},
     "output_type": "execute_result"
    }
   ],
   "source": [
    "df_log_clean.head()"
   ]
  },
  {
   "cell_type": "markdown",
   "metadata": {},
   "source": [
    "## Prefix"
   ]
  },
  {
   "cell_type": "code",
   "execution_count": 412,
   "metadata": {},
   "outputs": [
    {
     "name": "stdout",
     "output_type": "stream",
     "text": [
      ">> Prefix extraction\n",
      "Mandatory values: ['INTRO', 'PROG', 'VARS']\n",
      "Optional values: ['INTRO-Q', 'PROG-Q', 'VARS-Q']\n"
     ]
    }
   ],
   "source": [
    "print(f\">> Prefix extraction\")\n",
    "# Define mandatory and optional lists\n",
    "list_mandatory = ['INTRO', 'PROG', 'VARS']\n",
    "list_optional = ['INTRO-Q', 'PROG-Q', 'VARS-Q']\n",
    "print(\"Mandatory values:\", list_mandatory)\n",
    "print(\"Optional values:\", list_optional)"
   ]
  },
  {
   "cell_type": "code",
   "execution_count": 413,
   "metadata": {},
   "outputs": [],
   "source": [
    "# Create lists to store prefixes and remaining activities\n",
    "prefixes = []\n",
    "ongoing_list = []\n",
    "\n",
    "# Process each case ID individually\n",
    "for case_id, group in df_log_clean.groupby(id_variable):\n",
    "    # Filter events up to include only mandatory and optional ones for prefix\n",
    "    prefixed_group = group[group['Activity'].isin(list_mandatory + list_optional)]\n",
    "    # Collect the prefix activities (used for training) with all original columns\n",
    "    prefixes.append(prefixed_group)\n",
    "    \n",
    "    # Determine the remaining/ongoing activities (events after mandatory and optional ones) with all columns\n",
    "    # ongoing_group = group[~group['Activity'].isin(list_mandatory + list_optional)]\n",
    "    #ongoing_list.append(ongoing_group)\n",
    "\n",
    "# Concatenate all individual DataFrames into final DataFrames for prefixes and ongoing activities\n",
    "# 1. Full DataFrame with prefixes (all details included)\n",
    "df_prefixes_full = pd.concat(prefixes, ignore_index=True)\n",
    "\n",
    "# 3. Simplified DataFrame with only Case ID and prefix activities for easy viewing\n",
    "df_prefixes_list = df_prefixes_full[['Case ID', 'Activity']].groupby('Case ID').agg(list).reset_index()\n"
   ]
  },
  {
   "cell_type": "code",
   "execution_count": 414,
   "metadata": {},
   "outputs": [
    {
     "name": "stdout",
     "output_type": "stream",
     "text": [
      "Unique cases in prefix: 332\n"
     ]
    }
   ],
   "source": [
    "print(\"Unique cases in prefix:\", df_prefixes_full[id_variable].nunique())"
   ]
  },
  {
   "cell_type": "code",
   "execution_count": 415,
   "metadata": {},
   "outputs": [
    {
     "data": {
      "text/html": [
       "<div>\n",
       "<style scoped>\n",
       "    .dataframe tbody tr th:only-of-type {\n",
       "        vertical-align: middle;\n",
       "    }\n",
       "\n",
       "    .dataframe tbody tr th {\n",
       "        vertical-align: top;\n",
       "    }\n",
       "\n",
       "    .dataframe thead th {\n",
       "        text-align: right;\n",
       "    }\n",
       "</style>\n",
       "<table border=\"1\" class=\"dataframe\">\n",
       "  <thead>\n",
       "    <tr style=\"text-align: right;\">\n",
       "      <th></th>\n",
       "      <th>Case ID</th>\n",
       "      <th>Activity</th>\n",
       "      <th>Complete Timestamp</th>\n",
       "      <th>pageTitle</th>\n",
       "      <th>click_num</th>\n",
       "      <th>dbclick_num</th>\n",
       "      <th>QuizSessionCount_P3</th>\n",
       "      <th>QuizAnswerCorrectTotal_P3</th>\n",
       "      <th>QuizAnswerWrongTotal_P3</th>\n",
       "      <th>QuizAnswerCorrectRatioOverCount_P3</th>\n",
       "      <th>...</th>\n",
       "      <th>FN_N</th>\n",
       "      <th>FN_Q</th>\n",
       "      <th>FN_A</th>\n",
       "      <th>FN_C</th>\n",
       "      <th>FN_I</th>\n",
       "      <th>FN_CT</th>\n",
       "      <th>A_Time_s</th>\n",
       "      <th>A_Time_m</th>\n",
       "      <th>Forward_Jumps</th>\n",
       "      <th>Backward_Jumps</th>\n",
       "    </tr>\n",
       "  </thead>\n",
       "  <tbody>\n",
       "    <tr>\n",
       "      <th>0</th>\n",
       "      <td>0HcsM5K14bTga4CpYETnQuMBKMrDBCQgHeGk48sRul6Pha...</td>\n",
       "      <td>INTRO</td>\n",
       "      <td>2024-04-22 14:11:42</td>\n",
       "      <td>INTRO</td>\n",
       "      <td>1</td>\n",
       "      <td>0</td>\n",
       "      <td>3.0</td>\n",
       "      <td>2.0</td>\n",
       "      <td>1.0</td>\n",
       "      <td>0.67</td>\n",
       "      <td>...</td>\n",
       "      <td>0.0</td>\n",
       "      <td>0.0</td>\n",
       "      <td>1.0</td>\n",
       "      <td>1.0</td>\n",
       "      <td>0.0</td>\n",
       "      <td>FA</td>\n",
       "      <td>530.0</td>\n",
       "      <td>8.83</td>\n",
       "      <td>0</td>\n",
       "      <td>0</td>\n",
       "    </tr>\n",
       "    <tr>\n",
       "      <th>1</th>\n",
       "      <td>0HcsM5K14bTga4CpYETnQuMBKMrDBCQgHeGk48sRul6Pha...</td>\n",
       "      <td>INTRO-Q</td>\n",
       "      <td>2024-04-22 14:20:32</td>\n",
       "      <td>INTRO-Q</td>\n",
       "      <td>1</td>\n",
       "      <td>0</td>\n",
       "      <td>3.0</td>\n",
       "      <td>2.0</td>\n",
       "      <td>1.0</td>\n",
       "      <td>0.67</td>\n",
       "      <td>...</td>\n",
       "      <td>0.0</td>\n",
       "      <td>0.0</td>\n",
       "      <td>1.0</td>\n",
       "      <td>1.0</td>\n",
       "      <td>0.0</td>\n",
       "      <td>FA</td>\n",
       "      <td>32.0</td>\n",
       "      <td>0.53</td>\n",
       "      <td>0</td>\n",
       "      <td>0</td>\n",
       "    </tr>\n",
       "    <tr>\n",
       "      <th>2</th>\n",
       "      <td>0HcsM5K14bTga4CpYETnQuMBKMrDBCQgHeGk48sRul6Pha...</td>\n",
       "      <td>PROG</td>\n",
       "      <td>2024-04-22 14:21:04</td>\n",
       "      <td>PROG</td>\n",
       "      <td>1</td>\n",
       "      <td>0</td>\n",
       "      <td>3.0</td>\n",
       "      <td>2.0</td>\n",
       "      <td>1.0</td>\n",
       "      <td>0.67</td>\n",
       "      <td>...</td>\n",
       "      <td>0.0</td>\n",
       "      <td>0.0</td>\n",
       "      <td>1.0</td>\n",
       "      <td>1.0</td>\n",
       "      <td>0.0</td>\n",
       "      <td>FA</td>\n",
       "      <td>233.0</td>\n",
       "      <td>3.88</td>\n",
       "      <td>0</td>\n",
       "      <td>0</td>\n",
       "    </tr>\n",
       "    <tr>\n",
       "      <th>3</th>\n",
       "      <td>0HcsM5K14bTga4CpYETnQuMBKMrDBCQgHeGk48sRul6Pha...</td>\n",
       "      <td>PROG-Q</td>\n",
       "      <td>2024-04-22 14:24:57</td>\n",
       "      <td>PROG-Q</td>\n",
       "      <td>1</td>\n",
       "      <td>0</td>\n",
       "      <td>3.0</td>\n",
       "      <td>2.0</td>\n",
       "      <td>1.0</td>\n",
       "      <td>0.67</td>\n",
       "      <td>...</td>\n",
       "      <td>0.0</td>\n",
       "      <td>0.0</td>\n",
       "      <td>1.0</td>\n",
       "      <td>1.0</td>\n",
       "      <td>0.0</td>\n",
       "      <td>FA</td>\n",
       "      <td>17.0</td>\n",
       "      <td>0.28</td>\n",
       "      <td>0</td>\n",
       "      <td>0</td>\n",
       "    </tr>\n",
       "    <tr>\n",
       "      <th>4</th>\n",
       "      <td>0HcsM5K14bTga4CpYETnQuMBKMrDBCQgHeGk48sRul6Pha...</td>\n",
       "      <td>VARS</td>\n",
       "      <td>2024-04-22 14:25:14</td>\n",
       "      <td>VARS</td>\n",
       "      <td>1</td>\n",
       "      <td>0</td>\n",
       "      <td>3.0</td>\n",
       "      <td>2.0</td>\n",
       "      <td>1.0</td>\n",
       "      <td>0.67</td>\n",
       "      <td>...</td>\n",
       "      <td>0.0</td>\n",
       "      <td>0.0</td>\n",
       "      <td>1.0</td>\n",
       "      <td>1.0</td>\n",
       "      <td>0.0</td>\n",
       "      <td>FA</td>\n",
       "      <td>119.0</td>\n",
       "      <td>1.98</td>\n",
       "      <td>0</td>\n",
       "      <td>0</td>\n",
       "    </tr>\n",
       "  </tbody>\n",
       "</table>\n",
       "<p>5 rows × 26 columns</p>\n",
       "</div>"
      ],
      "text/plain": [
       "                                             Case ID Activity  \\\n",
       "0  0HcsM5K14bTga4CpYETnQuMBKMrDBCQgHeGk48sRul6Pha...    INTRO   \n",
       "1  0HcsM5K14bTga4CpYETnQuMBKMrDBCQgHeGk48sRul6Pha...  INTRO-Q   \n",
       "2  0HcsM5K14bTga4CpYETnQuMBKMrDBCQgHeGk48sRul6Pha...     PROG   \n",
       "3  0HcsM5K14bTga4CpYETnQuMBKMrDBCQgHeGk48sRul6Pha...   PROG-Q   \n",
       "4  0HcsM5K14bTga4CpYETnQuMBKMrDBCQgHeGk48sRul6Pha...     VARS   \n",
       "\n",
       "    Complete Timestamp pageTitle  click_num  dbclick_num  QuizSessionCount_P3  \\\n",
       "0  2024-04-22 14:11:42     INTRO          1            0                  3.0   \n",
       "1  2024-04-22 14:20:32   INTRO-Q          1            0                  3.0   \n",
       "2  2024-04-22 14:21:04      PROG          1            0                  3.0   \n",
       "3  2024-04-22 14:24:57    PROG-Q          1            0                  3.0   \n",
       "4  2024-04-22 14:25:14      VARS          1            0                  3.0   \n",
       "\n",
       "   QuizAnswerCorrectTotal_P3  QuizAnswerWrongTotal_P3  \\\n",
       "0                        2.0                      1.0   \n",
       "1                        2.0                      1.0   \n",
       "2                        2.0                      1.0   \n",
       "3                        2.0                      1.0   \n",
       "4                        2.0                      1.0   \n",
       "\n",
       "   QuizAnswerCorrectRatioOverCount_P3  ...  FN_N FN_Q  FN_A  FN_C  FN_I  \\\n",
       "0                                0.67  ...   0.0  0.0   1.0   1.0   0.0   \n",
       "1                                0.67  ...   0.0  0.0   1.0   1.0   0.0   \n",
       "2                                0.67  ...   0.0  0.0   1.0   1.0   0.0   \n",
       "3                                0.67  ...   0.0  0.0   1.0   1.0   0.0   \n",
       "4                                0.67  ...   0.0  0.0   1.0   1.0   0.0   \n",
       "\n",
       "   FN_CT  A_Time_s  A_Time_m  Forward_Jumps  Backward_Jumps  \n",
       "0     FA     530.0      8.83              0               0  \n",
       "1     FA      32.0      0.53              0               0  \n",
       "2     FA     233.0      3.88              0               0  \n",
       "3     FA      17.0      0.28              0               0  \n",
       "4     FA     119.0      1.98              0               0  \n",
       "\n",
       "[5 rows x 26 columns]"
      ]
     },
     "execution_count": 415,
     "metadata": {},
     "output_type": "execute_result"
    }
   ],
   "source": [
    "df_prefixes_full.head(5)"
   ]
  },
  {
   "cell_type": "code",
   "execution_count": 416,
   "metadata": {},
   "outputs": [
    {
     "data": {
      "text/html": [
       "<div>\n",
       "<style scoped>\n",
       "    .dataframe tbody tr th:only-of-type {\n",
       "        vertical-align: middle;\n",
       "    }\n",
       "\n",
       "    .dataframe tbody tr th {\n",
       "        vertical-align: top;\n",
       "    }\n",
       "\n",
       "    .dataframe thead th {\n",
       "        text-align: right;\n",
       "    }\n",
       "</style>\n",
       "<table border=\"1\" class=\"dataframe\">\n",
       "  <thead>\n",
       "    <tr style=\"text-align: right;\">\n",
       "      <th></th>\n",
       "      <th>Case ID</th>\n",
       "      <th>Activity</th>\n",
       "    </tr>\n",
       "  </thead>\n",
       "  <tbody>\n",
       "    <tr>\n",
       "      <th>0</th>\n",
       "      <td>0HcsM5K14bTga4CpYETnQuMBKMrDBCQgHeGk48sRul6Pha...</td>\n",
       "      <td>[INTRO, INTRO-Q, PROG, PROG-Q, VARS, VARS-Q]</td>\n",
       "    </tr>\n",
       "    <tr>\n",
       "      <th>1</th>\n",
       "      <td>0fEI3C7ZVbHNPQ3hgqWpnF97S5Crv15NcK8WakL64pyRIO...</td>\n",
       "      <td>[INTRO, INTRO-Q, PROG, PROG-Q, VARS, VARS-Q]</td>\n",
       "    </tr>\n",
       "    <tr>\n",
       "      <th>2</th>\n",
       "      <td>0yvCRzdOzkoVYbnkbkS1oIVWv8auRHmPUJ7ck1uYsO9nCd...</td>\n",
       "      <td>[INTRO, INTRO-Q, PROG, PROG-Q, VARS, VARS-Q]</td>\n",
       "    </tr>\n",
       "    <tr>\n",
       "      <th>3</th>\n",
       "      <td>1JRSaFuQOcATjahn7vxyD1JzbiRCR14OLT0Jd2GVOgGT7T...</td>\n",
       "      <td>[INTRO, INTRO-Q, PROG, PROG-Q, VARS, VARS-Q]</td>\n",
       "    </tr>\n",
       "    <tr>\n",
       "      <th>4</th>\n",
       "      <td>1JolpU4UO7I6WIHBXiGghjI7OEentU5EtlsRXzZoxZUDz5...</td>\n",
       "      <td>[INTRO, INTRO-Q, PROG, PROG-Q, VARS, VARS-Q]</td>\n",
       "    </tr>\n",
       "  </tbody>\n",
       "</table>\n",
       "</div>"
      ],
      "text/plain": [
       "                                             Case ID  \\\n",
       "0  0HcsM5K14bTga4CpYETnQuMBKMrDBCQgHeGk48sRul6Pha...   \n",
       "1  0fEI3C7ZVbHNPQ3hgqWpnF97S5Crv15NcK8WakL64pyRIO...   \n",
       "2  0yvCRzdOzkoVYbnkbkS1oIVWv8auRHmPUJ7ck1uYsO9nCd...   \n",
       "3  1JRSaFuQOcATjahn7vxyD1JzbiRCR14OLT0Jd2GVOgGT7T...   \n",
       "4  1JolpU4UO7I6WIHBXiGghjI7OEentU5EtlsRXzZoxZUDz5...   \n",
       "\n",
       "                                       Activity  \n",
       "0  [INTRO, INTRO-Q, PROG, PROG-Q, VARS, VARS-Q]  \n",
       "1  [INTRO, INTRO-Q, PROG, PROG-Q, VARS, VARS-Q]  \n",
       "2  [INTRO, INTRO-Q, PROG, PROG-Q, VARS, VARS-Q]  \n",
       "3  [INTRO, INTRO-Q, PROG, PROG-Q, VARS, VARS-Q]  \n",
       "4  [INTRO, INTRO-Q, PROG, PROG-Q, VARS, VARS-Q]  "
      ]
     },
     "execution_count": 416,
     "metadata": {},
     "output_type": "execute_result"
    }
   ],
   "source": [
    "df_prefixes_list.head(5)"
   ]
  },
  {
   "cell_type": "code",
   "execution_count": 417,
   "metadata": {},
   "outputs": [
    {
     "name": "stdout",
     "output_type": "stream",
     "text": [
      "> Saving the prefix and ongoing\n",
      "File path prefix: data_prefix/edu_event_log_PAGE_raw_filtered_DISCO_ter_enr_no_SURVEY_P.csv\n"
     ]
    }
   ],
   "source": [
    "print(\"> Saving the prefix and ongoing\")\n",
    "\n",
    "file_out = f\"{Path(log_file_name).stem}_P.csv\"\n",
    "dir_out = Path(prefix_dir) / file_out\n",
    "print(\"File path prefix:\", dir_out)\n",
    "df_prefixes_full.to_csv(dir_out, sep=csv_sep, index=False)\n"
   ]
  },
  {
   "cell_type": "code",
   "execution_count": 418,
   "metadata": {},
   "outputs": [
    {
     "name": "stdout",
     "output_type": "stream",
     "text": [
      "\n",
      "End process\n",
      "Script finished at: 2025-02-06 09:30:34\n",
      "Time to finish (0:00:01): 0 minutes, 1 seconds\n"
     ]
    }
   ],
   "source": [
    "end_time = datetime.now().replace(microsecond=0)\n",
    "delta_time = end_time - start_time\n",
    "total_seconds = int(delta_time.total_seconds())\n",
    "minutes, seconds = divmod(total_seconds, 60)\n",
    "\n",
    "print()\n",
    "print(\"End process\")\n",
    "print(\"Script finished at:\",  datetime.now().strftime(\"%Y-%m-%d %H:%M:%S\"))\n",
    "print(f\"Time to finish ({delta_time}): {minutes} minutes, {seconds} seconds\")"
   ]
  },
  {
   "cell_type": "code",
   "execution_count": 419,
   "metadata": {},
   "outputs": [
    {
     "name": "stdout",
     "output_type": "stream",
     "text": [
      "\n",
      "*** PROGRAM START ***\n",
      "\n"
     ]
    }
   ],
   "source": [
    "print()\n",
    "print(\"*** PROGRAM START ***\")\n",
    "print()"
   ]
  }
 ],
 "metadata": {
  "kernelspec": {
   "display_name": "Python 3",
   "language": "python",
   "name": "python3"
  },
  "language_info": {
   "codemirror_mode": {
    "name": "ipython",
    "version": 3
   },
   "file_extension": ".py",
   "mimetype": "text/x-python",
   "name": "python",
   "nbconvert_exporter": "python",
   "pygments_lexer": "ipython3",
   "version": "3.12.2"
  }
 },
 "nbformat": 4,
 "nbformat_minor": 2
}
