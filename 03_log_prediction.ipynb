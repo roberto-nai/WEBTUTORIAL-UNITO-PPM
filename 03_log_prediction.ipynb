{
 "cells": [
  {
   "cell_type": "code",
   "execution_count": null,
   "metadata": {},
   "outputs": [],
   "source": [
    "\"\"\"\n",
    "03_log_prediction.ipynb\n",
    "\"\"\""
   ]
  },
  {
   "cell_type": "markdown",
   "metadata": {},
   "source": [
    "# Event log prediction"
   ]
  },
  {
   "cell_type": "code",
   "execution_count": null,
   "metadata": {},
   "outputs": [],
   "source": [
    "### IMPORT ###\n",
    "from pathlib import Path\n",
    "import pandas as pd\n",
    "from datetime import datetime\n",
    "import matplotlib.pyplot as plt\n",
    "\n",
    "# AI\n",
    "from sklearn.model_selection import train_test_split, StratifiedKFold, cross_val_score\n",
    "from sklearn.preprocessing import StandardScaler\n",
    "from sklearn.ensemble import RandomForestClassifier\n",
    "from sklearn.pipeline import Pipeline\n",
    "from sklearn.metrics import classification_report, accuracy_score\n",
    "from hyperopt import fmin, tpe, hp, Trials, STATUS_OK\n",
    "import numpy as np\n",
    "from tensorflow.keras.models import Sequential\n",
    "from tensorflow.keras.layers import LSTM, Dense, Dropout\n",
    "from tensorflow.keras.callbacks import EarlyStopping\n",
    "from tensorflow.keras.layers import Bidirectional\n",
    "from xgboost import XGBClassifier\n",
    "\n",
    "\n",
    "### LOCAL IMPORT ###\n",
    "from config import config_reader\n",
    "from utilities import create_directories_with_gitkeep"
   ]
  },
  {
   "cell_type": "code",
   "execution_count": 489,
   "metadata": {},
   "outputs": [],
   "source": [
    "### GLOBALS ###\n",
    "yaml_config = config_reader.config_read_yaml(\"config.yml\", \"config\")\n",
    "# print(yaml_config) # debug\n",
    "encoding_dir = str(yaml_config[\"ENCODING_DIR\"])\n",
    "csv_sep = \",\"\n",
    "\n",
    "# INPUT\n",
    "level = \"PAGE\" # PAGE, PARA\n",
    "log_file = f\"edu_event_log_{level}_raw_filtered_DISCO_ter_enr_no_SURVEY_P_{encoding_type}.csv\" # The file filtered in the previous script (LEVEL to be replaced with prefix_type)\n",
    "\n",
    "# Column (feature) names\n",
    "id_variable = \"Case ID\" \n",
    "event_variable = \"Activity\"\n",
    "timestamp_variable = \"Complete Timestamp\""
   ]
  },
  {
   "cell_type": "code",
   "execution_count": 490,
   "metadata": {},
   "outputs": [],
   "source": [
    "# INPUT\n",
    "\n",
    "encoding_list = [\"B\", \"F\", \"I\"]\n",
    "encoding_type = encoding_list[2] # <-- INPUT: set 0, 1 or 2 (from the list)\n",
    "\n",
    "target_variable_list = [\"UEQ - Overall_Tercile\", \"SUS_Tercile\", \"Apprendimento percepito_Tercile\"]\n",
    "target_variable = target_variable_list[0] # <-- INPUT: set 0, 1 or 2 to choose the target (from the list)\n",
    "\n",
    "filed_notes_list = [0, 1] # 0 = no, 1 = yes\n",
    "filed_notes = filed_notes_list[1] # <-- INPUT: set 0 or 1"
   ]
  },
  {
   "cell_type": "code",
   "execution_count": 491,
   "metadata": {},
   "outputs": [],
   "source": [
    "# OUTPUT\n",
    "ml_dir = str(yaml_config[\"ML_DIR\"])\n",
    "ml_file = str(yaml_config[\"ML_RES_FILE\"])"
   ]
  },
  {
   "cell_type": "markdown",
   "metadata": {},
   "source": [
    "## FUNCTIONS"
   ]
  },
  {
   "cell_type": "code",
   "execution_count": 492,
   "metadata": {},
   "outputs": [],
   "source": [
    "def report_missing_values(df: pd.DataFrame) -> pd.DataFrame:\n",
    "    \"\"\"\n",
    "    Returns a report of columns with missing values in a dataframe.\n",
    "\n",
    "    Parameters:\n",
    "        df(pd.DataFrame): The input dataframe.\n",
    "\n",
    "    Returns:\n",
    "        pd.DataFrame: A dataframe with the count of missing values per column, sorted in descending order.\n",
    "    \"\"\"\n",
    "    missing_values_report = df.isnull().sum()\n",
    "    missing_values_report = missing_values_report[missing_values_report > 0]\n",
    "    return missing_values_report.to_frame(name='Missing Values Count').sort_values(by='Missing Values Count', ascending=False)"
   ]
  },
  {
   "cell_type": "code",
   "execution_count": 493,
   "metadata": {},
   "outputs": [],
   "source": [
    "def save_model_report(report_dict: dict, encoding_type: str, model_name: str, ml_dir: str, file_base_name: str, prediction_type: str, xls_file: bool) -> pd.DataFrame:\n",
    "    \"\"\"\n",
    "    Saves a classification report as a CSV and optionally as an Excel file.\n",
    "\n",
    "    This function converts the provided report dictionary into a pandas DataFrame, \n",
    "    formats it by inserting relevant metadata columns if missing, rounds key \n",
    "    performance metrics, and saves the resulting report to a specified directory. \n",
    "\n",
    "    Parameters:\n",
    "        report_dict (dict): The classification report dictionary.\n",
    "        encoding_type (str): The encoding type used in the model.\n",
    "        model_name (str): The name of the machine learning model.\n",
    "        ml_dir (str): The directory where the report files will be saved.\n",
    "        file_base_name (str): The base name for the output file.\n",
    "        prediction_type (str): The type of prediction task.\n",
    "        xls_file (bool): Whether to save the report as an Excel file in addition to CSV.\n",
    "\n",
    "    Returns:\n",
    "        pd.DataFrame: The formatted classification report as a DataFrame.\n",
    "    \"\"\"\n",
    "    # Convert the dictionary to a pandas DataFrame and transpose it for better readability\n",
    "    df_report = pd.DataFrame(report_dict).transpose()\n",
    "    # Prepare the classification report for final output\n",
    "    if \"Encoding\" not in df_report.columns:\n",
    "        df_report.insert(0, \"Encoding\", encoding_type)\n",
    "    if \"ModelName\" not in df_report.columns:\n",
    "        df_report.insert(1, \"ModelName\", model_name)\n",
    "    if \"FieldNotes\" not in df_report.columns:\n",
    "        df_report.insert(2, \"FieldNotes\", filed_notes)\n",
    "    columns_to_round = [\"precision\", \"recall\", \"f1-score\"]\n",
    "    for col in columns_to_round:\n",
    "        if col in df_report.columns:\n",
    "            df_report[col] = df_report[col].round(3)\n",
    "    print(\"> Saving metrics\")\n",
    "    current_date_string = datetime.now().strftime(\"%Y-%m-%d\")\n",
    "    file_out = file_base_name.replace(\"MODEL\", model_name)\n",
    "    # CSV\n",
    "    file_csv = f\"{current_date_string}_{Path(file_out).stem}_{encoding_type}_{prediction_type}.csv\"\n",
    "    path_ml = Path(ml_dir) / file_csv\n",
    "    print(\"Path:\", path_ml)\n",
    "    df_report.to_csv(path_ml, sep=\";\")\n",
    "    # EXCEL\n",
    "    if xls_file == True:\n",
    "        sname = f\"{model_name}_{encoding_type}\"\n",
    "        file_xls = f\"{current_date_string}_{Path(file_out).stem}_{encoding_type}_{prediction_type}.xlsx\"\n",
    "        path_ml = Path(ml_dir) / file_xls\n",
    "        df_report.to_excel(path_ml, sheet_name=sname)\n",
    "    \n",
    "    return df_report"
   ]
  },
  {
   "cell_type": "code",
   "execution_count": 494,
   "metadata": {},
   "outputs": [],
   "source": [
    "def extract_feature_importances(pipeline: Pipeline, X_train: pd.DataFrame, ml_file: str, current_date_string: str, ml_dir: str, encoding_type: str, prediction_type:str) -> pd.DataFrame:\n",
    "    \"\"\"\n",
    "    Extracts and saves feature importances from a classifier in a pipeline.\n",
    "    \n",
    "    This function retrieves the classifier from the provided pipeline,\n",
    "    extracts its feature importances, and creates a DataFrame sorted in\n",
    "    descending order of importance. It then saves the top 10 feature\n",
    "    importances to a CSV file and plots the top 10 features.\n",
    "    \n",
    "    Args:\n",
    "        pipeline (Pipeline): The pipeline containing the trained classifier.\n",
    "        X_train (pd.DataFrame): The training data used for model fitting, with feature names.\n",
    "        ml_file (str): The filename template from which to derive the output CSV filename.\n",
    "        current_date_string (str): A string representing the current date, used in the output filename.\n",
    "        ml_dir (Union[str, Path]): The directory where the CSV file will be saved.\n",
    "        encoding_type (str): A string representing the encoding type, used in the output filename.\n",
    "        encoding_type (str): A string representing the prediction type, standard or enriched.\n",
    "        \n",
    "    Returns:\n",
    "        pd.DataFrame: A DataFrame containing the feature importances sorted in descending order.\n",
    "    \"\"\"\n",
    "\n",
    "    top_n = 10 # <- INPUT\n",
    "\n",
    "    # Extract the classifier from the pipeline using the 'named_steps' attribute.\n",
    "    classifier_model = pipeline.named_steps['classifier']\n",
    "    classifier_model_name = (classifier_model.__class__.__name__).replace(\"Classifier\",\"\")\n",
    "\n",
    "    # Extract feature importances and the feature names from the training data.\n",
    "    importances = classifier_model.feature_importances_\n",
    "    feature_names = X_train.columns\n",
    "    \n",
    "    # Create a DataFrame with feature importances and sort it in descending order.\n",
    "    feature_importances_df = pd.DataFrame({\n",
    "        'Feature': feature_names,\n",
    "        'Importance': importances\n",
    "    }).sort_values(by='Importance', ascending=False)\n",
    "    \n",
    "    # Display the feature importances DataFrame.\n",
    "    print(\"Feature Importances:\")\n",
    "    print(feature_importances_df)\n",
    "    \n",
    "    # Save the top top_n feature importances to a CSV file.\n",
    "    print(\"Saving feature importance\")\n",
    "    file_out = ml_file.replace(\"MODEL\", classifier_model_name)\n",
    "    file_out = f\"{current_date_string}_{Path(file_out).stem}_{encoding_type}_{prediction_type}_fimp.csv\"\n",
    "    path_ml = Path(ml_dir) / file_out\n",
    "    print(\"Path:\", path_ml)\n",
    "    feature_importances_df.head(top_n).to_csv(path_ml, sep=\";\")\n",
    "    \n",
    "    # Plot the top top_n feature importances.\n",
    "    plt.figure(figsize=(10, 6))\n",
    "    plt.barh(feature_importances_df['Feature'][:top_n], feature_importances_df['Importance'][:top_n])\n",
    "    plt.xlabel('Importance')\n",
    "    plt.ylabel('Feature')\n",
    "    plt_title = f\"Top {top_n} Feature Importances from {classifier_model_name}\"\n",
    "    plt.title(plt_title)\n",
    "    plt.gca().invert_yaxis()  # Reverse the order for better readability.\n",
    "    plt.show()\n",
    "    \n",
    "    return feature_importances_df"
   ]
  },
  {
   "cell_type": "code",
   "execution_count": 530,
   "metadata": {},
   "outputs": [],
   "source": [
    "\n",
    "def aggregate_csv_results(folder_path: str, extension: str, exclude_str: str, csv_sep: str = \";\") -> pd.DataFrame:\n",
    "    \"\"\"\n",
    "    Aggregates CSV files in a given folder by:\n",
    "      - Selecting files with the specified extension (excluding those whose names contain a given string).\n",
    "      - Reading each CSV into a DataFrame.\n",
    "      - For each DataFrame, taking the first three rows (rows 0, 1 and 2) and grouping by\n",
    "        'ModelName', 'Encoding' and 'FieldNotes'. Then computing the mean values for the\n",
    "        columns 'precision', 'recall' and 'f1-score'.\n",
    "      - Combining all the per-file summaries into one final DataFrame with columns:\n",
    "        'ModelName', 'FieldNotes', 'Encoding', 'Avg precision', 'Avg recall' and 'Avg f1-score'.\n",
    "    \n",
    "    Args:\n",
    "      folder_path (str): The path to the folder containing the files.\n",
    "      extension (str): The file extension to consider (e.g. '.csv').\n",
    "      exclude_str (str): A string; files whose names contain this string will be ignored.\n",
    "      csv_sep (str): the CSV separator\n",
    "      \n",
    "    Returns:\n",
    "      pd.DataFrame: A DataFrame with one row per unique combination of ModelName, FieldNotes and Encoding,\n",
    "                    containing the average metrics.\n",
    "    \"\"\"\n",
    "    \n",
    "    folder = Path(folder_path)\n",
    "    summaries = []\n",
    "    \n",
    "    files_count = 0\n",
    "\n",
    "    # Iterate over all files matching the pattern \"*{extension}\" in the folder\n",
    "    for file_path in folder.glob(\"*\" + extension):\n",
    "        # Skip file if its name contains the exclusion string\n",
    "        if exclude_str in file_path.name:\n",
    "            continue\n",
    "        \n",
    "        try:\n",
    "            # Read the CSV into a DataFrame\n",
    "            df = pd.read_csv(file_path, sep=csv_sep)\n",
    "        except Exception as e:\n",
    "            print(f\"Error reading {file_path.name}: {e}\")\n",
    "            continue\n",
    "        \n",
    "        files_count+=1\n",
    "\n",
    "        # Check that the required columns are present in the CSV\n",
    "        required_cols = {'ModelName', 'Encoding', 'FieldNotes', 'precision', 'recall', 'f1-score'}\n",
    "        if not required_cols.issubset(df.columns):\n",
    "            print(f\"File {file_path.name} does not contain the required columns.\")\n",
    "            continue\n",
    "        \n",
    "        # Select only the first three rows (rows 0, 1 and 2)\n",
    "        df_subset = df.head(3)\n",
    "        \n",
    "        # Group by 'ModelName', 'Encoding' and 'FieldNotes' and calculate mean values for the metric columns\n",
    "        group_means = (\n",
    "            df_subset\n",
    "            .groupby(['ModelName', 'Encoding', 'FieldNotes'])[['precision', 'recall', 'f1-score']]\n",
    "            .mean()\n",
    "            .reset_index()\n",
    "        )\n",
    "        \n",
    "        # Rename the metric columns to reflect that these are average values\n",
    "        group_means.rename(columns={\n",
    "            'precision': 'Avg precision',\n",
    "            'recall': 'Avg recall',\n",
    "            'f1-score': 'Avg f1-score'\n",
    "        }, inplace=True)\n",
    "        \n",
    "        summaries.append(group_means)\n",
    "    \n",
    "    # Combine all per-file summaries into one DataFrame.\n",
    "    if summaries:\n",
    "        combined_df = pd.concat(summaries, ignore_index=True)\n",
    "        final_df = (\n",
    "            combined_df\n",
    "            .groupby(['ModelName', 'Encoding', 'FieldNotes'], as_index=False)\n",
    "            .mean()\n",
    "        )\n",
    "        # Reorder the columns as specified: ModelName, FieldNotes, Encoding, Avg precision, Avg recall, Avg f1-score\n",
    "        final_df = final_df[['ModelName', 'FieldNotes', 'Encoding', 'Avg precision', 'Avg recall', 'Avg f1-score']]\n",
    "        final_df[['Avg precision', 'Avg recall', 'Avg f1-score']] = final_df[['Avg precision', 'Avg recall', 'Avg f1-score']].round(3)\n",
    "        final_df = final_df.sort_values(by=[\"Avg f1-score\"], ascending=False)\n",
    "    else:\n",
    "        # Return an empty DataFrame with the required columns if no files were processed\n",
    "        final_df = pd.DataFrame(columns=['ModelName', 'FieldNotes', 'Encoding', 'Avg precision', 'Avg recall', 'Avg f1-score'])\n",
    "    \n",
    "\n",
    "    print(f\"Files with extension '{extension}' read: {files_count}\")\n",
    "    print()\n",
    "    print(\"Final dataset length:\", len(final_df))\n",
    "    print()\n",
    "\n",
    "    return final_df"
   ]
  },
  {
   "cell_type": "markdown",
   "metadata": {},
   "source": [
    "## MAIN"
   ]
  },
  {
   "cell_type": "code",
   "execution_count": 496,
   "metadata": {},
   "outputs": [
    {
     "name": "stdout",
     "output_type": "stream",
     "text": [
      "\n",
      "*** PROGRAM START ***\n",
      "\n"
     ]
    }
   ],
   "source": [
    "print()\n",
    "print(\"*** PROGRAM START ***\")\n",
    "print()"
   ]
  },
  {
   "cell_type": "code",
   "execution_count": 497,
   "metadata": {},
   "outputs": [
    {
     "name": "stdout",
     "output_type": "stream",
     "text": [
      "Start process: 2025-02-08 14:59:33\n",
      "\n"
     ]
    }
   ],
   "source": [
    "start_time = datetime.now().replace(microsecond=0)\n",
    "print(\"Start process:\", str(start_time))\n",
    "print()"
   ]
  },
  {
   "cell_type": "code",
   "execution_count": 498,
   "metadata": {},
   "outputs": [
    {
     "name": "stdout",
     "output_type": "stream",
     "text": [
      ">> Settings\n",
      "CSV separator: ,\n",
      "Input file: edu_event_log_PAGE_raw_filtered_DISCO_ter_enr_no_SURVEY_P_F.csv\n",
      "Target variable: UEQ - Overall_Tercile\n",
      "Filed notes: 1\n"
     ]
    }
   ],
   "source": [
    "print(\">> Settings\")\n",
    "list_files = []\n",
    "print(\"CSV separator:\", csv_sep)\n",
    "print(f\"Input file: {log_file}\")\n",
    "print(\"Target variable:\", target_variable)\n",
    "print(\"Filed notes:\", filed_notes)\n",
    "current_date_string = datetime.now().strftime(\"%Y-%m-%d\")"
   ]
  },
  {
   "cell_type": "code",
   "execution_count": 499,
   "metadata": {},
   "outputs": [
    {
     "name": "stdout",
     "output_type": "stream",
     "text": [
      ">> Creating output directories\n",
      "Directory 'data_ml' and .gitkeep file created\n"
     ]
    }
   ],
   "source": [
    "print(\">> Creating output directories\")\n",
    "dir_output = []\n",
    "dir_output.append(ml_dir)\n",
    "create_directories_with_gitkeep(dir_output)"
   ]
  },
  {
   "cell_type": "code",
   "execution_count": 500,
   "metadata": {},
   "outputs": [
    {
     "name": "stdout",
     "output_type": "stream",
     "text": [
      ">> Reading event log\n",
      "Input event log column types: {'Case ID': <class 'object'>}\n",
      "Input file: data_encoding/edu_event_log_PAGE_raw_filtered_DISCO_ter_enr_no_SURVEY_P_F.csv\n"
     ]
    }
   ],
   "source": [
    "print(\">> Reading event log\")\n",
    "list_df_p = [] # dataframe container with event logs\n",
    "# Column (feature) types\n",
    "dic_t = {id_variable:object}\n",
    "print(\"Input event log column types:\", dic_t)\n",
    "path_log_file = Path(encoding_dir) / log_file\n",
    "print(f\"Input file: {path_log_file}\")\n",
    "df_log_p = pd.read_csv(path_log_file, dtype=dic_t, sep=csv_sep, low_memory=False)"
   ]
  },
  {
   "cell_type": "code",
   "execution_count": 501,
   "metadata": {},
   "outputs": [
    {
     "data": {
      "text/plain": [
       "Index(['Case ID', 'Complete Timestamp', 'click_num', 'dbclick_num',\n",
       "       'QuizSessionCount_P3', 'QuizAnswerCorrectTotal_P3',\n",
       "       'QuizAnswerWrongTotal_P3', 'QuizAnswerCorrectRatioOverCount_P3',\n",
       "       'QuizAnswerCorrectRatioOverAll_P3', 'SUS_Tercile',\n",
       "       'Apprendimento percepito_Tercile', 'Class_Count', 'FN_N', 'FN_Q',\n",
       "       'FN_A', 'FN_C', 'FN_I', 'A_Time_s', 'A_Time_m', 'Forward_Jumps',\n",
       "       'Backward_Jumps', 'Activity_INTRO', 'Activity_INTRO-Q', 'Activity_PROG',\n",
       "       'Activity_PROG-Q', 'Activity_VARS', 'Activity_VARS-Q',\n",
       "       'pageTitle_INTRO', 'pageTitle_INTRO-Q', 'pageTitle_PROG',\n",
       "       'pageTitle_PROG-Q', 'pageTitle_VARS', 'pageTitle_VARS-Q', 'Class_ECO',\n",
       "       'Class_SAA', 'Class_SMCN1', 'Class_SMCN2', 'Class_SMTO1', 'Class_SMTO2',\n",
       "       'Class_SMTO3', 'FN_CT_FA', 'FN_CT_L', 'FN_CT_M', 'FN_CT_SA',\n",
       "       'UEQ - Overall_Tercile'],\n",
       "      dtype='object')"
      ]
     },
     "execution_count": 501,
     "metadata": {},
     "output_type": "execute_result"
    }
   ],
   "source": [
    "df_log_p.columns"
   ]
  },
  {
   "cell_type": "code",
   "execution_count": 502,
   "metadata": {},
   "outputs": [
    {
     "data": {
      "text/plain": [
       "Case ID                                object\n",
       "Complete Timestamp                     object\n",
       "click_num                               int64\n",
       "dbclick_num                             int64\n",
       "QuizSessionCount_P3                   float64\n",
       "QuizAnswerCorrectTotal_P3             float64\n",
       "QuizAnswerWrongTotal_P3               float64\n",
       "QuizAnswerCorrectRatioOverCount_P3    float64\n",
       "QuizAnswerCorrectRatioOverAll_P3      float64\n",
       "SUS_Tercile                             int64\n",
       "Apprendimento percepito_Tercile         int64\n",
       "Class_Count                           float64\n",
       "FN_N                                  float64\n",
       "FN_Q                                  float64\n",
       "FN_A                                  float64\n",
       "FN_C                                  float64\n",
       "FN_I                                  float64\n",
       "A_Time_s                              float64\n",
       "A_Time_m                              float64\n",
       "Forward_Jumps                           int64\n",
       "Backward_Jumps                          int64\n",
       "Activity_INTRO                          int64\n",
       "Activity_INTRO-Q                        int64\n",
       "Activity_PROG                           int64\n",
       "Activity_PROG-Q                         int64\n",
       "Activity_VARS                           int64\n",
       "Activity_VARS-Q                         int64\n",
       "pageTitle_INTRO                         int64\n",
       "pageTitle_INTRO-Q                       int64\n",
       "pageTitle_PROG                          int64\n",
       "pageTitle_PROG-Q                        int64\n",
       "pageTitle_VARS                          int64\n",
       "pageTitle_VARS-Q                        int64\n",
       "Class_ECO                               int64\n",
       "Class_SAA                               int64\n",
       "Class_SMCN1                             int64\n",
       "Class_SMCN2                             int64\n",
       "Class_SMTO1                             int64\n",
       "Class_SMTO2                             int64\n",
       "Class_SMTO3                             int64\n",
       "FN_CT_FA                                int64\n",
       "FN_CT_L                                 int64\n",
       "FN_CT_M                                 int64\n",
       "FN_CT_SA                                int64\n",
       "UEQ - Overall_Tercile                   int64\n",
       "dtype: object"
      ]
     },
     "execution_count": 502,
     "metadata": {},
     "output_type": "execute_result"
    }
   ],
   "source": [
    "df_log_p.dtypes"
   ]
  },
  {
   "cell_type": "code",
   "execution_count": 503,
   "metadata": {},
   "outputs": [
    {
     "name": "stdout",
     "output_type": "stream",
     "text": [
      "Dataframe shape before cleaning: (2260, 45)\n"
     ]
    }
   ],
   "source": [
    "print(\"Dataframe shape before cleaning:\", df_log_p.shape)"
   ]
  },
  {
   "cell_type": "markdown",
   "metadata": {},
   "source": [
    "### Checking and Cleaning the event log before prediction"
   ]
  },
  {
   "cell_type": "code",
   "execution_count": 504,
   "metadata": {},
   "outputs": [
    {
     "name": "stdout",
     "output_type": "stream",
     "text": [
      "> Removing columns not neede\n",
      "['Case ID', 'Complete Timestamp', 'SUS_Tercile', 'Apprendimento percepito_Tercile', 'A_Time_m']\n",
      "Dataframe shape before cleaning: (2260, 40)\n"
     ]
    }
   ],
   "source": [
    "print(\"> Removing columns not neede\")\n",
    "list_drop = [id_variable, timestamp_variable, target_variable_list[1], target_variable_list[2], \"A_Time_m\"] # <-- INPUT\n",
    "# Filter only columns that exist in the dataframe\n",
    "columns_to_drop = [col for col in list_drop if col in df_log_p.columns]\n",
    "print(columns_to_drop)\n",
    "df_log_p_clean = df_log_p.drop(columns=columns_to_drop)\n",
    "print(\"Dataframe shape before cleaning:\", df_log_p_clean.shape)"
   ]
  },
  {
   "cell_type": "code",
   "execution_count": 505,
   "metadata": {},
   "outputs": [
    {
     "name": "stdout",
     "output_type": "stream",
     "text": [
      "> Checking missing values\n"
     ]
    },
    {
     "data": {
      "text/plain": [
       "QuizSessionCount_P3                   13\n",
       "QuizAnswerCorrectTotal_P3             13\n",
       "QuizAnswerWrongTotal_P3               13\n",
       "QuizAnswerCorrectRatioOverCount_P3    13\n",
       "QuizAnswerCorrectRatioOverAll_P3      13\n",
       "FN_I                                   1\n",
       "FN_Q                                   1\n",
       "FN_C                                   1\n",
       "FN_A                                   1\n",
       "FN_N                                   1\n",
       "Class_Count                            1\n",
       "Class_SMTO2                            0\n",
       "Class_ECO                              0\n",
       "Class_SAA                              0\n",
       "Class_SMCN1                            0\n",
       "Class_SMCN2                            0\n",
       "Class_SMTO1                            0\n",
       "click_num                              0\n",
       "Class_SMTO3                            0\n",
       "FN_CT_FA                               0\n",
       "FN_CT_L                                0\n",
       "FN_CT_M                                0\n",
       "FN_CT_SA                               0\n",
       "pageTitle_VARS                         0\n",
       "pageTitle_VARS-Q                       0\n",
       "Activity_VARS                          0\n",
       "pageTitle_PROG-Q                       0\n",
       "pageTitle_PROG                         0\n",
       "pageTitle_INTRO-Q                      0\n",
       "pageTitle_INTRO                        0\n",
       "Activity_VARS-Q                        0\n",
       "dbclick_num                            0\n",
       "Activity_PROG-Q                        0\n",
       "Activity_PROG                          0\n",
       "Activity_INTRO-Q                       0\n",
       "Activity_INTRO                         0\n",
       "Backward_Jumps                         0\n",
       "Forward_Jumps                          0\n",
       "A_Time_s                               0\n",
       "UEQ - Overall_Tercile                  0\n",
       "dtype: int64"
      ]
     },
     "execution_count": 505,
     "metadata": {},
     "output_type": "execute_result"
    }
   ],
   "source": [
    "print(\"> Checking missing values\")\n",
    "missing_values_per_column = df_log_p_clean.isnull().sum().sort_values(ascending=False)\n",
    "missing_values_per_column"
   ]
  },
  {
   "cell_type": "code",
   "execution_count": 506,
   "metadata": {},
   "outputs": [
    {
     "name": "stdout",
     "output_type": "stream",
     "text": [
      "> Fixing missing values\n",
      "Fixing columns: QuizSessionCount_P3\n",
      "Fixing columns: QuizAnswerCorrectTotal_P3\n",
      "Fixing columns: QuizAnswerWrongTotal_P3\n",
      "Fixing columns: QuizAnswerCorrectRatioOverCount_P3\n",
      "Fixing columns: QuizAnswerCorrectRatioOverAll_P3\n",
      "Fixing columns: Class_Count\n",
      "Fixing columns: FN_N\n",
      "Fixing columns: FN_Q\n",
      "Fixing columns: FN_A\n",
      "Fixing columns: FN_C\n",
      "Fixing columns: FN_I\n"
     ]
    }
   ],
   "source": [
    "print(\"> Fixing missing values\")\n",
    "columns_with_missing_values = df_log_p_clean.columns[df_log_p_clean.isnull().sum() > 0].tolist()\n",
    "\n",
    "# Fill missing values with median in specific columns\n",
    "for column in columns_with_missing_values:\n",
    "    print(\"Fixing columns:\", column)\n",
    "    median_value = df_log_p_clean[column].median()\n",
    "    df_log_p_clean[column] = df_log_p_clean[column].fillna(median_value)"
   ]
  },
  {
   "cell_type": "code",
   "execution_count": 507,
   "metadata": {},
   "outputs": [
    {
     "data": {
      "text/plain": [
       "click_num                             0\n",
       "dbclick_num                           0\n",
       "pageTitle_INTRO                       0\n",
       "pageTitle_INTRO-Q                     0\n",
       "pageTitle_PROG                        0\n",
       "pageTitle_PROG-Q                      0\n",
       "pageTitle_VARS                        0\n",
       "pageTitle_VARS-Q                      0\n",
       "Class_ECO                             0\n",
       "Class_SAA                             0\n",
       "Class_SMCN1                           0\n",
       "Class_SMCN2                           0\n",
       "Class_SMTO1                           0\n",
       "Class_SMTO2                           0\n",
       "Class_SMTO3                           0\n",
       "FN_CT_FA                              0\n",
       "FN_CT_L                               0\n",
       "FN_CT_M                               0\n",
       "FN_CT_SA                              0\n",
       "Activity_VARS-Q                       0\n",
       "Activity_VARS                         0\n",
       "Activity_PROG-Q                       0\n",
       "FN_Q                                  0\n",
       "QuizSessionCount_P3                   0\n",
       "QuizAnswerCorrectTotal_P3             0\n",
       "QuizAnswerWrongTotal_P3               0\n",
       "QuizAnswerCorrectRatioOverCount_P3    0\n",
       "QuizAnswerCorrectRatioOverAll_P3      0\n",
       "Class_Count                           0\n",
       "FN_N                                  0\n",
       "FN_A                                  0\n",
       "Activity_PROG                         0\n",
       "FN_C                                  0\n",
       "FN_I                                  0\n",
       "A_Time_s                              0\n",
       "Forward_Jumps                         0\n",
       "Backward_Jumps                        0\n",
       "Activity_INTRO                        0\n",
       "Activity_INTRO-Q                      0\n",
       "UEQ - Overall_Tercile                 0\n",
       "dtype: int64"
      ]
     },
     "execution_count": 507,
     "metadata": {},
     "output_type": "execute_result"
    }
   ],
   "source": [
    "missing_values_per_column = df_log_p_clean.isnull().sum().sort_values(ascending=False)\n",
    "missing_values_per_column"
   ]
  },
  {
   "cell_type": "markdown",
   "metadata": {},
   "source": [
    "## Distribution of the target variable"
   ]
  },
  {
   "cell_type": "code",
   "execution_count": 508,
   "metadata": {},
   "outputs": [
    {
     "name": "stdout",
     "output_type": "stream",
     "text": [
      ">> Target variable\n",
      "Feature (column) name: UEQ - Overall_Tercile\n",
      "Distinct values: [1, 3, 2]\n"
     ]
    }
   ],
   "source": [
    "print(\">> Target variable\")\n",
    "print(\"Feature (column) name:\", target_variable)\n",
    "print(\"Distinct values:\", df_log_p_clean[target_variable].unique().tolist())"
   ]
  },
  {
   "cell_type": "code",
   "execution_count": 509,
   "metadata": {},
   "outputs": [
    {
     "name": "stdout",
     "output_type": "stream",
     "text": [
      "UEQ - Overall_Tercile                 1.000000\n",
      "QuizAnswerWrongTotal_P3               0.163371\n",
      "QuizAnswerCorrectRatioOverCount_P3    0.162295\n",
      "Class_SAA                             0.158936\n",
      "FN_N                                  0.154423\n",
      "FN_A                                  0.147416\n",
      "Class_SMCN2                           0.138484\n",
      "QuizAnswerCorrectTotal_P3             0.123577\n",
      "QuizAnswerCorrectRatioOverAll_P3      0.123348\n",
      "FN_Q                                  0.114134\n",
      "FN_CT_FA                              0.110878\n",
      "FN_I                                  0.101979\n",
      "Class_SMTO3                           0.088346\n",
      "QuizSessionCount_P3                   0.081654\n",
      "Class_ECO                             0.074209\n",
      "FN_CT_SA                              0.074209\n",
      "click_num                             0.058211\n",
      "Activity_VARS-Q                       0.056833\n",
      "FN_CT_M                               0.053257\n",
      "Class_SMTO1                           0.053257\n",
      "dbclick_num                           0.035769\n",
      "FN_C                                  0.035225\n",
      "Activity_PROG                         0.034938\n",
      "Activity_INTRO                        0.033029\n",
      "Class_Count                           0.027165\n",
      "Activity_PROG-Q                       0.026657\n",
      "Backward_Jumps                        0.025670\n",
      "Forward_Jumps                         0.015278\n",
      "Class_SMCN1                           0.013330\n",
      "A_Time_s                              0.012489\n",
      "pageTitle_PROG                        0.010519\n",
      "pageTitle_INTRO-Q                     0.009902\n",
      "FN_CT_L                               0.009689\n",
      "Activity_VARS                         0.007507\n",
      "pageTitle_VARS                        0.005490\n",
      "pageTitle_INTRO                       0.004046\n",
      "pageTitle_VARS-Q                      0.003298\n",
      "pageTitle_PROG-Q                      0.002749\n",
      "Class_SMTO2                           0.000928\n",
      "Activity_INTRO-Q                      0.000465\n",
      "Name: UEQ - Overall_Tercile, dtype: float64\n"
     ]
    }
   ],
   "source": [
    "# Check if any feature is highly correlated with the target (do not consider target_variable since it's not yet removed)\n",
    "correlation = df_log_p_clean.corr()[target_variable].abs().sort_values(ascending=False)\n",
    "print(correlation)"
   ]
  },
  {
   "cell_type": "markdown",
   "metadata": {},
   "source": [
    "## Creating a dataframe with and without field notes (FN)"
   ]
  },
  {
   "cell_type": "code",
   "execution_count": 510,
   "metadata": {},
   "outputs": [
    {
     "name": "stdout",
     "output_type": "stream",
     "text": [
      "> Removing feature (column) for ml comparison\n"
     ]
    }
   ],
   "source": [
    "print(\"> Removing feature (column) for ml comparison\")\n",
    "\n",
    "df_log_p_with_fn = df_log_p_clean.copy()\n",
    "\n",
    "# Define the list of columns to remove\n",
    "cols_to_drop = [col for col in df_log_p_clean.columns if col.startswith('FN_')]\n",
    "\n",
    "# Remove columns from df_log_clean if they exist\n",
    "df_log_p_without_fn = df_log_p_clean.drop(columns=cols_to_drop)"
   ]
  },
  {
   "cell_type": "code",
   "execution_count": 511,
   "metadata": {},
   "outputs": [
    {
     "data": {
      "text/plain": [
       "Index(['click_num', 'dbclick_num', 'QuizSessionCount_P3',\n",
       "       'QuizAnswerCorrectTotal_P3', 'QuizAnswerWrongTotal_P3',\n",
       "       'QuizAnswerCorrectRatioOverCount_P3',\n",
       "       'QuizAnswerCorrectRatioOverAll_P3', 'Class_Count', 'FN_N', 'FN_Q',\n",
       "       'FN_A', 'FN_C', 'FN_I', 'A_Time_s', 'Forward_Jumps', 'Backward_Jumps',\n",
       "       'Activity_INTRO', 'Activity_INTRO-Q', 'Activity_PROG',\n",
       "       'Activity_PROG-Q', 'Activity_VARS', 'Activity_VARS-Q',\n",
       "       'pageTitle_INTRO', 'pageTitle_INTRO-Q', 'pageTitle_PROG',\n",
       "       'pageTitle_PROG-Q', 'pageTitle_VARS', 'pageTitle_VARS-Q', 'Class_ECO',\n",
       "       'Class_SAA', 'Class_SMCN1', 'Class_SMCN2', 'Class_SMTO1', 'Class_SMTO2',\n",
       "       'Class_SMTO3', 'FN_CT_FA', 'FN_CT_L', 'FN_CT_M', 'FN_CT_SA',\n",
       "       'UEQ - Overall_Tercile'],\n",
       "      dtype='object')"
      ]
     },
     "execution_count": 511,
     "metadata": {},
     "output_type": "execute_result"
    }
   ],
   "source": [
    "df_log_p_with_fn.columns"
   ]
  },
  {
   "cell_type": "code",
   "execution_count": 512,
   "metadata": {},
   "outputs": [
    {
     "data": {
      "text/plain": [
       "Index(['click_num', 'dbclick_num', 'QuizSessionCount_P3',\n",
       "       'QuizAnswerCorrectTotal_P3', 'QuizAnswerWrongTotal_P3',\n",
       "       'QuizAnswerCorrectRatioOverCount_P3',\n",
       "       'QuizAnswerCorrectRatioOverAll_P3', 'Class_Count', 'A_Time_s',\n",
       "       'Forward_Jumps', 'Backward_Jumps', 'Activity_INTRO', 'Activity_INTRO-Q',\n",
       "       'Activity_PROG', 'Activity_PROG-Q', 'Activity_VARS', 'Activity_VARS-Q',\n",
       "       'pageTitle_INTRO', 'pageTitle_INTRO-Q', 'pageTitle_PROG',\n",
       "       'pageTitle_PROG-Q', 'pageTitle_VARS', 'pageTitle_VARS-Q', 'Class_ECO',\n",
       "       'Class_SAA', 'Class_SMCN1', 'Class_SMCN2', 'Class_SMTO1', 'Class_SMTO2',\n",
       "       'Class_SMTO3', 'UEQ - Overall_Tercile'],\n",
       "      dtype='object')"
      ]
     },
     "execution_count": 512,
     "metadata": {},
     "output_type": "execute_result"
    }
   ],
   "source": [
    "df_log_p_without_fn.columns"
   ]
  },
  {
   "cell_type": "code",
   "execution_count": 513,
   "metadata": {},
   "outputs": [],
   "source": [
    "# From here on, the two datasets to be used will be df_log_p_with_fn and df_log_p_withouth_fn"
   ]
  },
  {
   "cell_type": "code",
   "execution_count": 514,
   "metadata": {},
   "outputs": [],
   "source": [
    "df_prediction = None\n",
    "prediction_type = None\n",
    "if filed_notes == 0:\n",
    "    print(\"Prediction \")\n",
    "    df_prediction = df_log_p_without_fn.copy()\n",
    "    prediction_type = \"STD\"\n",
    "else:\n",
    "    df_prediction = df_log_p_with_fn.copy()\n",
    "    prediction_type = \"ENR\""
   ]
  },
  {
   "cell_type": "markdown",
   "metadata": {},
   "source": [
    "## Machine Learning predictions"
   ]
  },
  {
   "cell_type": "markdown",
   "metadata": {},
   "source": [
    "### Common data preparation"
   ]
  },
  {
   "cell_type": "code",
   "execution_count": 515,
   "metadata": {},
   "outputs": [],
   "source": [
    "# Separate features (X) and target variable (y)\n",
    "X = df_prediction.drop(columns=[target_variable]) # common for all models\n",
    "\n",
    "# Verify that the target variable is not in the features\n",
    "assert target_variable not in X.columns, \"Target variable found in training features!\""
   ]
  },
  {
   "cell_type": "markdown",
   "metadata": {},
   "source": [
    "### Random Forest"
   ]
  },
  {
   "cell_type": "code",
   "execution_count": 516,
   "metadata": {},
   "outputs": [],
   "source": [
    "# Labels (for RF)\n",
    "y = df_prediction[target_variable]"
   ]
  },
  {
   "cell_type": "code",
   "execution_count": 517,
   "metadata": {},
   "outputs": [
    {
     "name": "stdout",
     "output_type": "stream",
     "text": [
      "100%|██████████| 50/50 [00:25<00:00,  1.95trial/s, best loss: -0.6640316205533596]\n",
      "Best hyperparameters found: {'classifier__n_estimators': 80, 'classifier__max_depth': 16, 'classifier__min_samples_split': 4, 'classifier__min_samples_leaf': 1}\n",
      "Validation Accuracy: 0.7066246056782335\n",
      "Validation Classification Report:\n",
      "              precision    recall  f1-score   support\n",
      "\n",
      "           1       0.67      0.77      0.71       115\n",
      "           2       0.76      0.73      0.74       115\n",
      "           3       0.70      0.60      0.65        87\n",
      "\n",
      "    accuracy                           0.71       317\n",
      "   macro avg       0.71      0.70      0.70       317\n",
      "weighted avg       0.71      0.71      0.71       317\n",
      "\n",
      "Cross-Validation Scores: [0.65612648 0.62055336 0.67588933 0.71936759 0.65612648]\n",
      "Mean Cross-Validation Score: 0.6656126482213438\n",
      "Test Accuracy: 0.700589970501475\n",
      "Test Classification Report:\n",
      "              precision    recall  f1-score   support\n",
      "\n",
      "           1       0.71      0.77      0.74       246\n",
      "           2       0.70      0.66      0.68       246\n",
      "           3       0.69      0.66      0.67       186\n",
      "\n",
      "    accuracy                           0.70       678\n",
      "   macro avg       0.70      0.70      0.70       678\n",
      "weighted avg       0.70      0.70      0.70       678\n",
      "\n",
      "> Creating report metrics dataframe\n",
      "> Saving metrics\n",
      "Path: data_ml/2025-02-08_ml_RandomForest_results_I_ENR.csv\n"
     ]
    }
   ],
   "source": [
    "# -------------------------------------\n",
    "# Data Splitting: Create training, validation, and test sets.\n",
    "# -------------------------------------\n",
    "X_temp, X_test, y_temp, y_test = train_test_split(\n",
    "    X, y, test_size=0.3, random_state=42, stratify=y\n",
    ")\n",
    "\n",
    "X_train, X_val, y_train, y_val = train_test_split(\n",
    "    X_temp, y_temp, test_size=0.2, random_state=42, stratify=y_temp\n",
    ")\n",
    "\n",
    "# -------------------------------------\n",
    "# Create a pipeline with a StandardScaler and a RandomForestClassifier.\n",
    "# -------------------------------------\n",
    "pipeline = Pipeline([\n",
    "    ('scaler', StandardScaler()),\n",
    "    ('classifier', RandomForestClassifier(random_state=42))\n",
    "])\n",
    "\n",
    "# Use StratifiedKFold for cross-validation (to maintain class balance)\n",
    "skf = StratifiedKFold(n_splits=5, shuffle=True, random_state=42)\n",
    "\n",
    "# -------------------------------------\n",
    "# Define the Hyperopt search space.\n",
    "# We use hp.quniform for numerical parameters and hp.choice for categorical choices.\n",
    "# -------------------------------------\n",
    "space = {\n",
    "    'classifier__n_estimators': hp.quniform('classifier__n_estimators', 50, 200, 10),\n",
    "    'classifier__max_depth': hp.choice('classifier__max_depth', [None] + list(range(5, 21))),\n",
    "    'classifier__min_samples_split': hp.quniform('classifier__min_samples_split', 2, 10, 1),\n",
    "    'classifier__min_samples_leaf': hp.quniform('classifier__min_samples_leaf', 1, 5, 1)\n",
    "}\n",
    "\n",
    "# -------------------------------------\n",
    "# Define the objective function for Hyperopt.\n",
    "# This function sets the hyperparameters in the pipeline, performs cross-validation,\n",
    "# and returns the negative mean accuracy as the loss.\n",
    "# -------------------------------------\n",
    "def objective(params):\n",
    "    # Convert parameters from hp.quniform to integers.\n",
    "    params['classifier__n_estimators'] = int(params['classifier__n_estimators'])\n",
    "    params['classifier__min_samples_split'] = int(params['classifier__min_samples_split'])\n",
    "    params['classifier__min_samples_leaf'] = int(params['classifier__min_samples_leaf'])\n",
    "    \n",
    "    # Set the parameters in the pipeline.\n",
    "    pipeline.set_params(**params)\n",
    "    \n",
    "    # Evaluate the model using cross-validation.\n",
    "    cv_scores = cross_val_score(pipeline, X_train, y_train, cv=skf, scoring='accuracy')\n",
    "    mean_score = sum(cv_scores) / len(cv_scores)\n",
    "    \n",
    "    # Return the negative mean score as the loss (since Hyperopt minimises the objective).\n",
    "    return {'loss': -mean_score, 'status': STATUS_OK}\n",
    "\n",
    "# -------------------------------------\n",
    "# Run Hyperopt optimisation.\n",
    "# -------------------------------------\n",
    "trials = Trials()\n",
    "best = fmin(\n",
    "    fn=objective,\n",
    "    space=space,\n",
    "    algo=tpe.suggest,\n",
    "    max_evals=50,  # Adjust the number of evaluations to balance computation time and search depth.\n",
    "    trials=trials\n",
    ")\n",
    "\n",
    "# Process the best hyperparameters.\n",
    "best_params = {\n",
    "    'classifier__n_estimators': int(best['classifier__n_estimators']),\n",
    "    'classifier__max_depth': best['classifier__max_depth'],  # Already the selected option from hp.choice.\n",
    "    'classifier__min_samples_split': int(best['classifier__min_samples_split']),\n",
    "    'classifier__min_samples_leaf': int(best['classifier__min_samples_leaf'])\n",
    "}\n",
    "print(\"Best hyperparameters found:\", best_params)\n",
    "\n",
    "# -------------------------------------\n",
    "# Train the pipeline with the optimised hyperparameters.\n",
    "# -------------------------------------\n",
    "pipeline.set_params(**best_params)\n",
    "pipeline.fit(X_train, y_train)\n",
    "\n",
    "# Evaluate on the validation set.\n",
    "y_val_pred = pipeline.predict(X_val)\n",
    "print(\"Validation Accuracy:\", accuracy_score(y_val, y_val_pred))\n",
    "print(\"Validation Classification Report:\")\n",
    "print(classification_report(y_val, y_val_pred))\n",
    "\n",
    "# Optionally, evaluate using cross-validation on the training set.\n",
    "cv_scores = cross_val_score(pipeline, X_train, y_train, cv=skf, scoring='accuracy')\n",
    "mean_cv = sum(cv_scores) / len(cv_scores)\n",
    "print(\"Cross-Validation Scores:\", cv_scores)\n",
    "print(\"Mean Cross-Validation Score:\", mean_cv)\n",
    "\n",
    "# Finally, evaluate on the test set.\n",
    "y_test_pred = pipeline.predict(X_test)\n",
    "print(\"Test Accuracy:\", accuracy_score(y_test, y_test_pred))\n",
    "print(\"Test Classification Report:\")\n",
    "print(classification_report(y_test, y_test_pred))\n",
    "\n",
    "# Save the classification_report of the test evaluation\n",
    "report_dict = classification_report(y_test, y_test_pred, output_dict=True)\n",
    "\n",
    "# Save the classification_report as file\n",
    "# Extract the classifier from the pipeline using the 'named_steps' attribute.\n",
    "classifier_model = pipeline.named_steps['classifier']\n",
    "classifier_model_name = (classifier_model.__class__.__name__).replace('Classifier', '')\n",
    "print(\"> Creating report metrics dataframe\")\n",
    "df_report = save_model_report(report_dict, encoding_type, classifier_model_name, ml_dir, ml_file, prediction_type, False)"
   ]
  },
  {
   "cell_type": "code",
   "execution_count": 518,
   "metadata": {},
   "outputs": [
    {
     "name": "stdout",
     "output_type": "stream",
     "text": [
      ">> XAI - Eplaining the model\n",
      "Feature Importances:\n",
      "                               Feature  Importance\n",
      "0                            click_num    0.166064\n",
      "13                            A_Time_s    0.144465\n",
      "15                      Backward_Jumps    0.121294\n",
      "14                       Forward_Jumps    0.079175\n",
      "1                          dbclick_num    0.051284\n",
      "16                      Activity_INTRO    0.033851\n",
      "18                       Activity_PROG    0.025731\n",
      "3            QuizAnswerCorrectTotal_P3    0.024209\n",
      "17                    Activity_INTRO-Q    0.023018\n",
      "6     QuizAnswerCorrectRatioOverAll_P3    0.022476\n",
      "7                          Class_Count    0.022410\n",
      "5   QuizAnswerCorrectRatioOverCount_P3    0.021979\n",
      "4              QuizAnswerWrongTotal_P3    0.021906\n",
      "20                       Activity_VARS    0.020822\n",
      "19                     Activity_PROG-Q    0.015100\n",
      "21                     Activity_VARS-Q    0.013313\n",
      "2                  QuizSessionCount_P3    0.011249\n",
      "24                      pageTitle_PROG    0.011092\n",
      "26                      pageTitle_VARS    0.011013\n",
      "35                            FN_CT_FA    0.010947\n",
      "10                                FN_A    0.010753\n",
      "25                    pageTitle_PROG-Q    0.010293\n",
      "36                             FN_CT_L    0.009908\n",
      "23                   pageTitle_INTRO-Q    0.009268\n",
      "22                     pageTitle_INTRO    0.009176\n",
      "27                    pageTitle_VARS-Q    0.009123\n",
      "11                                FN_C    0.009066\n",
      "8                                 FN_N    0.009001\n",
      "33                         Class_SMTO2    0.008982\n",
      "12                                FN_I    0.008931\n",
      "29                           Class_SAA    0.008277\n",
      "37                             FN_CT_M    0.007042\n",
      "34                         Class_SMTO3    0.006486\n",
      "32                         Class_SMTO1    0.006237\n",
      "30                         Class_SMCN1    0.006077\n",
      "9                                 FN_Q    0.005416\n",
      "38                            FN_CT_SA    0.005172\n",
      "28                           Class_ECO    0.005048\n",
      "31                         Class_SMCN2    0.004348\n",
      "Saving feature importance\n",
      "Path: data_ml/2025-02-08_ml_RandomForest_results_I_ENR_fimp.csv\n"
     ]
    },
    {
     "data": {
      "image/png": "[encoded data removed]",
      "text/plain": [
       "<Figure size 1000x600 with 1 Axes>"
      ]
     },
     "metadata": {},
     "output_type": "display_data"
    },
    {
     "data": {
      "text/html": [
       "<div>\n",
       "<style scoped>\n",
       "    .dataframe tbody tr th:only-of-type {\n",
       "        vertical-align: middle;\n",
       "    }\n",
       "\n",
       "    .dataframe tbody tr th {\n",
       "        vertical-align: top;\n",
       "    }\n",
       "\n",
       "    .dataframe thead th {\n",
       "        text-align: right;\n",
       "    }\n",
       "</style>\n",
       "<table border=\"1\" class=\"dataframe\">\n",
       "  <thead>\n",
       "    <tr style=\"text-align: right;\">\n",
       "      <th></th>\n",
       "      <th>Feature</th>\n",
       "      <th>Importance</th>\n",
       "    </tr>\n",
       "  </thead>\n",
       "  <tbody>\n",
       "    <tr>\n",
       "      <th>0</th>\n",
       "      <td>click_num</td>\n",
       "      <td>0.166064</td>\n",
       "    </tr>\n",
       "    <tr>\n",
       "      <th>13</th>\n",
       "      <td>A_Time_s</td>\n",
       "      <td>0.144465</td>\n",
       "    </tr>\n",
       "    <tr>\n",
       "      <th>15</th>\n",
       "      <td>Backward_Jumps</td>\n",
       "      <td>0.121294</td>\n",
       "    </tr>\n",
       "    <tr>\n",
       "      <th>14</th>\n",
       "      <td>Forward_Jumps</td>\n",
       "      <td>0.079175</td>\n",
       "    </tr>\n",
       "    <tr>\n",
       "      <th>1</th>\n",
       "      <td>dbclick_num</td>\n",
       "      <td>0.051284</td>\n",
       "    </tr>\n",
       "    <tr>\n",
       "      <th>16</th>\n",
       "      <td>Activity_INTRO</td>\n",
       "      <td>0.033851</td>\n",
       "    </tr>\n",
       "    <tr>\n",
       "      <th>18</th>\n",
       "      <td>Activity_PROG</td>\n",
       "      <td>0.025731</td>\n",
       "    </tr>\n",
       "    <tr>\n",
       "      <th>3</th>\n",
       "      <td>QuizAnswerCorrectTotal_P3</td>\n",
       "      <td>0.024209</td>\n",
       "    </tr>\n",
       "    <tr>\n",
       "      <th>17</th>\n",
       "      <td>Activity_INTRO-Q</td>\n",
       "      <td>0.023018</td>\n",
       "    </tr>\n",
       "    <tr>\n",
       "      <th>6</th>\n",
       "      <td>QuizAnswerCorrectRatioOverAll_P3</td>\n",
       "      <td>0.022476</td>\n",
       "    </tr>\n",
       "  </tbody>\n",
       "</table>\n",
       "</div>"
      ],
      "text/plain": [
       "                             Feature  Importance\n",
       "0                          click_num    0.166064\n",
       "13                          A_Time_s    0.144465\n",
       "15                    Backward_Jumps    0.121294\n",
       "14                     Forward_Jumps    0.079175\n",
       "1                        dbclick_num    0.051284\n",
       "16                    Activity_INTRO    0.033851\n",
       "18                     Activity_PROG    0.025731\n",
       "3          QuizAnswerCorrectTotal_P3    0.024209\n",
       "17                  Activity_INTRO-Q    0.023018\n",
       "6   QuizAnswerCorrectRatioOverAll_P3    0.022476"
      ]
     },
     "execution_count": 518,
     "metadata": {},
     "output_type": "execute_result"
    }
   ],
   "source": [
    "# XAI\n",
    "print(\">> XAI - Eplaining the model\")\n",
    "feature_importances_df = extract_feature_importances(pipeline, X_train, ml_file, current_date_string, ml_dir, encoding_type, prediction_type)\n",
    "feature_importances_df.head(10)"
   ]
  },
  {
   "cell_type": "markdown",
   "metadata": {},
   "source": [
    "### XGBoost"
   ]
  },
  {
   "cell_type": "code",
   "execution_count": 519,
   "metadata": {},
   "outputs": [],
   "source": [
    "# Convert the target labels to start from 0 instead of 1 (LSTM and XGB starts from 0)\n",
    "# (i.e. if your original labels are 1,2,3, they become 0,1,2)\n",
    "y = df_prediction[target_variable] - 1"
   ]
  },
  {
   "cell_type": "code",
   "execution_count": 520,
   "metadata": {},
   "outputs": [
    {
     "name": "stdout",
     "output_type": "stream",
     "text": [
      "100%|██████████| 50/50 [03:53<00:00,  4.67s/trial, best loss: -0.7604743083003953]\n",
      "Best hyperparameters found: {'classifier__n_estimators': 170, 'classifier__max_depth': 6, 'classifier__learning_rate': 0.07827014519830727}\n",
      "Validation Accuracy: 0.8201892744479495\n",
      "Validation Classification Report:\n",
      "              precision    recall  f1-score   support\n",
      "\n",
      "           0       0.77      0.87      0.82       115\n",
      "           1       0.83      0.88      0.85       115\n",
      "           2       0.91      0.68      0.78        87\n",
      "\n",
      "    accuracy                           0.82       317\n",
      "   macro avg       0.83      0.81      0.81       317\n",
      "weighted avg       0.83      0.82      0.82       317\n",
      "\n",
      "Cross-Validation Scores: [0.75494071 0.74703557 0.70750988 0.68774704 0.74703557]\n",
      "Mean Cross-Validation Score: 0.7288537549407115\n",
      "Test Accuracy: 0.7846607669616519\n",
      "Test Classification Report:\n",
      "              precision    recall  f1-score   support\n",
      "\n",
      "           0       0.79      0.84      0.82       246\n",
      "           1       0.77      0.79      0.78       246\n",
      "           2       0.79      0.70      0.74       186\n",
      "\n",
      "    accuracy                           0.78       678\n",
      "   macro avg       0.79      0.78      0.78       678\n",
      "weighted avg       0.78      0.78      0.78       678\n",
      "\n",
      "> Creating report metrics dataframe\n",
      "> Saving metrics\n",
      "Path: data_ml/2025-02-08_ml_XGB_results_I_ENR.csv\n"
     ]
    }
   ],
   "source": [
    "# -------------------------------------\n",
    "# Data Splitting: Create training, validation, and test sets.\n",
    "# -------------------------------------\n",
    "X_temp, X_test, y_temp, y_test = train_test_split(\n",
    "    X, y, test_size=0.3, random_state=42, stratify=y\n",
    ")\n",
    "\n",
    "X_train, X_val, y_train, y_val = train_test_split(\n",
    "    X_temp, y_temp, test_size=0.2, random_state=42, stratify=y_temp\n",
    ")\n",
    "\n",
    "# -------------------------------------\n",
    "# Create a pipeline with a StandardScaler and an XGBClassifier.\n",
    "# Note: 'use_label_encoder=False' and 'eval_metric' are set to avoid warnings.\n",
    "# -------------------------------------\n",
    "pipeline = Pipeline([\n",
    "    ('scaler', StandardScaler()),\n",
    "    ('classifier', XGBClassifier(random_state=42, use_label_encoder=False, eval_metric='logloss'))\n",
    "])\n",
    "\n",
    "# Use StratifiedKFold for cross-validation (to maintain class balance)\n",
    "skf = StratifiedKFold(n_splits=5, shuffle=True, random_state=42)\n",
    "\n",
    "# -------------------------------------\n",
    "# Define the Hyperopt search space for XGBoost parameters.\n",
    "# -------------------------------------\n",
    "space = {\n",
    "    'classifier__n_estimators': hp.quniform('classifier__n_estimators', 50, 300, 10),\n",
    "    'classifier__max_depth': hp.choice('classifier__max_depth', list(range(3, 11))),  # Depth from 3 to 10\n",
    "    'classifier__learning_rate': hp.loguniform('classifier__learning_rate', -3, 0)      # Learning rate between exp(-3) and 1\n",
    "}\n",
    "\n",
    "# -------------------------------------\n",
    "# Define the objective function for Hyperopt.\n",
    "# This function sets the hyperparameters in the pipeline, performs cross-validation,\n",
    "# and returns the negative mean accuracy as the loss.\n",
    "# -------------------------------------\n",
    "def objective(params):\n",
    "    # Convert hyperparameters to the appropriate type.\n",
    "    params['classifier__n_estimators'] = int(params['classifier__n_estimators'])\n",
    "    params['classifier__max_depth'] = int(params['classifier__max_depth'])\n",
    "    # 'learning_rate' remains a float.\n",
    "    \n",
    "    # Set these parameters in the pipeline.\n",
    "    pipeline.set_params(**params)\n",
    "    \n",
    "    # Evaluate the model using cross-validation.\n",
    "    cv_scores = cross_val_score(pipeline, X_train, y_train, cv=skf, scoring='accuracy')\n",
    "    mean_score = sum(cv_scores) / len(cv_scores)\n",
    "    \n",
    "    # Return the negative mean score as the loss (since Hyperopt minimises the objective).\n",
    "    return {'loss': -mean_score, 'status': STATUS_OK}\n",
    "\n",
    "# -------------------------------------\n",
    "# Run Hyperopt optimisation.\n",
    "# -------------------------------------\n",
    "trials = Trials()\n",
    "best = fmin(\n",
    "    fn=objective,\n",
    "    space=space,\n",
    "    algo=tpe.suggest,\n",
    "    max_evals=50,  # Adjust the number of evaluations to balance computation time and search depth.\n",
    "    trials=trials\n",
    ")\n",
    "\n",
    "# Process the best hyperparameters.\n",
    "best_params = {\n",
    "    'classifier__n_estimators': int(best['classifier__n_estimators']),\n",
    "    'classifier__max_depth': best['classifier__max_depth'],  # Already the selected option from hp.choice.\n",
    "    'classifier__learning_rate': best['classifier__learning_rate']\n",
    "}\n",
    "print(\"Best hyperparameters found:\", best_params)\n",
    "\n",
    "# -------------------------------------\n",
    "# Train the pipeline with the optimised hyperparameters.\n",
    "# -------------------------------------\n",
    "pipeline.set_params(**best_params)\n",
    "pipeline.fit(X_train, y_train)\n",
    "\n",
    "# -------------------------------------\n",
    "# Evaluate on the validation set.\n",
    "# -------------------------------------\n",
    "y_val_pred = pipeline.predict(X_val)\n",
    "print(\"Validation Accuracy:\", accuracy_score(y_val, y_val_pred))\n",
    "print(\"Validation Classification Report:\")\n",
    "print(classification_report(y_val, y_val_pred))\n",
    "\n",
    "# Optionally, evaluate using cross-validation on the training set.\n",
    "cv_scores = cross_val_score(pipeline, X_train, y_train, cv=skf, scoring='accuracy')\n",
    "mean_cv = sum(cv_scores) / len(cv_scores)\n",
    "print(\"Cross-Validation Scores:\", cv_scores)\n",
    "print(\"Mean Cross-Validation Score:\", mean_cv)\n",
    "\n",
    "# -------------------------------------\n",
    "# Finally, evaluate on the test set.\n",
    "# -------------------------------------\n",
    "y_test_pred = pipeline.predict(X_test)\n",
    "print(\"Test Accuracy:\", accuracy_score(y_test, y_test_pred))\n",
    "print(\"Test Classification Report:\")\n",
    "print(classification_report(y_test, y_test_pred))\n",
    "\n",
    "# Save the classification report of the test evaluation in a dictionary.\n",
    "report_dict = classification_report(y_test, y_test_pred, output_dict=True)\n",
    "\n",
    "# Save the classification_report as file\n",
    "# Extract the classifier from the pipeline using the 'named_steps' attribute.\n",
    "classifier_model = pipeline.named_steps['classifier']\n",
    "classifier_model_name = (classifier_model.__class__.__name__).replace('Classifier', '')\n",
    "print(\"> Creating report metrics dataframe\")\n",
    "df_report = save_model_report(report_dict, encoding_type, classifier_model_name, ml_dir, ml_file, prediction_type, False)"
   ]
  },
  {
   "cell_type": "code",
   "execution_count": 521,
   "metadata": {},
   "outputs": [
    {
     "name": "stdout",
     "output_type": "stream",
     "text": [
      ">> XAI - Eplaining the model\n",
      "Feature Importances:\n",
      "                               Feature  Importance\n",
      "8                                 FN_N    0.074351\n",
      "36                             FN_CT_L    0.057097\n",
      "5   QuizAnswerCorrectRatioOverCount_P3    0.053069\n",
      "29                           Class_SAA    0.051347\n",
      "10                                FN_A    0.048789\n",
      "9                                 FN_Q    0.047828\n",
      "32                         Class_SMTO1    0.041613\n",
      "4              QuizAnswerWrongTotal_P3    0.038924\n",
      "14                       Forward_Jumps    0.037848\n",
      "11                                FN_C    0.037758\n",
      "0                            click_num    0.036162\n",
      "33                         Class_SMTO2    0.033539\n",
      "15                      Backward_Jumps    0.033211\n",
      "1                          dbclick_num    0.032125\n",
      "12                                FN_I    0.031223\n",
      "7                          Class_Count    0.028940\n",
      "3            QuizAnswerCorrectTotal_P3    0.028581\n",
      "2                  QuizSessionCount_P3    0.028022\n",
      "16                      Activity_INTRO    0.026196\n",
      "17                    Activity_INTRO-Q    0.024395\n",
      "35                            FN_CT_FA    0.023624\n",
      "30                         Class_SMCN1    0.020193\n",
      "26                      pageTitle_VARS    0.019361\n",
      "13                            A_Time_s    0.017321\n",
      "22                     pageTitle_INTRO    0.016124\n",
      "31                         Class_SMCN2    0.016058\n",
      "18                       Activity_PROG    0.014200\n",
      "19                     Activity_PROG-Q    0.012592\n",
      "20                       Activity_VARS    0.012358\n",
      "21                     Activity_VARS-Q    0.012172\n",
      "27                    pageTitle_VARS-Q    0.012138\n",
      "25                    pageTitle_PROG-Q    0.012129\n",
      "23                   pageTitle_INTRO-Q    0.011250\n",
      "24                      pageTitle_PROG    0.009461\n",
      "28                           Class_ECO    0.000000\n",
      "34                         Class_SMTO3    0.000000\n",
      "6     QuizAnswerCorrectRatioOverAll_P3    0.000000\n",
      "37                             FN_CT_M    0.000000\n",
      "38                            FN_CT_SA    0.000000\n",
      "Saving feature importance\n",
      "Path: data_ml/2025-02-08_ml_XGB_results_I_ENR_fimp.csv\n"
     ]
    },
    {
     "data": {
      "image/png": "[encoded data removed]",
      "text/plain": [
       "<Figure size 1000x600 with 1 Axes>"
      ]
     },
     "metadata": {},
     "output_type": "display_data"
    },
    {
     "data": {
      "text/html": [
       "<div>\n",
       "<style scoped>\n",
       "    .dataframe tbody tr th:only-of-type {\n",
       "        vertical-align: middle;\n",
       "    }\n",
       "\n",
       "    .dataframe tbody tr th {\n",
       "        vertical-align: top;\n",
       "    }\n",
       "\n",
       "    .dataframe thead th {\n",
       "        text-align: right;\n",
       "    }\n",
       "</style>\n",
       "<table border=\"1\" class=\"dataframe\">\n",
       "  <thead>\n",
       "    <tr style=\"text-align: right;\">\n",
       "      <th></th>\n",
       "      <th>Feature</th>\n",
       "      <th>Importance</th>\n",
       "    </tr>\n",
       "  </thead>\n",
       "  <tbody>\n",
       "    <tr>\n",
       "      <th>8</th>\n",
       "      <td>FN_N</td>\n",
       "      <td>0.074351</td>\n",
       "    </tr>\n",
       "    <tr>\n",
       "      <th>36</th>\n",
       "      <td>FN_CT_L</td>\n",
       "      <td>0.057097</td>\n",
       "    </tr>\n",
       "    <tr>\n",
       "      <th>5</th>\n",
       "      <td>QuizAnswerCorrectRatioOverCount_P3</td>\n",
       "      <td>0.053069</td>\n",
       "    </tr>\n",
       "    <tr>\n",
       "      <th>29</th>\n",
       "      <td>Class_SAA</td>\n",
       "      <td>0.051347</td>\n",
       "    </tr>\n",
       "    <tr>\n",
       "      <th>10</th>\n",
       "      <td>FN_A</td>\n",
       "      <td>0.048789</td>\n",
       "    </tr>\n",
       "    <tr>\n",
       "      <th>9</th>\n",
       "      <td>FN_Q</td>\n",
       "      <td>0.047828</td>\n",
       "    </tr>\n",
       "    <tr>\n",
       "      <th>32</th>\n",
       "      <td>Class_SMTO1</td>\n",
       "      <td>0.041613</td>\n",
       "    </tr>\n",
       "    <tr>\n",
       "      <th>4</th>\n",
       "      <td>QuizAnswerWrongTotal_P3</td>\n",
       "      <td>0.038924</td>\n",
       "    </tr>\n",
       "    <tr>\n",
       "      <th>14</th>\n",
       "      <td>Forward_Jumps</td>\n",
       "      <td>0.037848</td>\n",
       "    </tr>\n",
       "    <tr>\n",
       "      <th>11</th>\n",
       "      <td>FN_C</td>\n",
       "      <td>0.037758</td>\n",
       "    </tr>\n",
       "  </tbody>\n",
       "</table>\n",
       "</div>"
      ],
      "text/plain": [
       "                               Feature  Importance\n",
       "8                                 FN_N    0.074351\n",
       "36                             FN_CT_L    0.057097\n",
       "5   QuizAnswerCorrectRatioOverCount_P3    0.053069\n",
       "29                           Class_SAA    0.051347\n",
       "10                                FN_A    0.048789\n",
       "9                                 FN_Q    0.047828\n",
       "32                         Class_SMTO1    0.041613\n",
       "4              QuizAnswerWrongTotal_P3    0.038924\n",
       "14                       Forward_Jumps    0.037848\n",
       "11                                FN_C    0.037758"
      ]
     },
     "execution_count": 521,
     "metadata": {},
     "output_type": "execute_result"
    }
   ],
   "source": [
    "# XAI\n",
    "print(\">> XAI - Eplaining the model\")\n",
    "feature_importances_df = extract_feature_importances(pipeline, X_train, ml_file, current_date_string, ml_dir, encoding_type, prediction_type)\n",
    "feature_importances_df.head(10)"
   ]
  },
  {
   "cell_type": "markdown",
   "metadata": {},
   "source": [
    "### LSTM"
   ]
  },
  {
   "cell_type": "code",
   "execution_count": 522,
   "metadata": {},
   "outputs": [],
   "source": [
    "# Convert the target labels to start from 0 instead of 1 (LSTM and XGB starts from 0)\n",
    "# (i.e. if your original labels are 1,2,3, they become 0,1,2)\n",
    "y = df_prediction[target_variable] - 1"
   ]
  },
  {
   "cell_type": "code",
   "execution_count": 523,
   "metadata": {},
   "outputs": [
    {
     "name": "stderr",
     "output_type": "stream",
     "text": [
      "/Library/Frameworks/Python.framework/Versions/3.12/lib/python3.12/site-packages/keras/src/layers/rnn/bidirectional.py:107: UserWarning: Do not pass an `input_shape`/`input_dim` argument to a layer. When using Sequential models, prefer using an `Input(shape)` object as the first layer in the model instead.\n",
      "  super().__init__(**kwargs)\n"
     ]
    },
    {
     "data": {
      "text/html": [
       "<pre style=\"white-space:pre;overflow-x:auto;line-height:normal;font-family:Menlo,'DejaVu Sans Mono',consolas,'Courier New',monospace\"><span style=\"font-weight: bold\">Model: \"sequential_9\"</span>\n",
       "</pre>\n"
      ],
      "text/plain": [
       "\u001b[1mModel: \"sequential_9\"\u001b[0m\n"
      ]
     },
     "metadata": {},
     "output_type": "display_data"
    },
    {
     "data": {
      "text/html": [
       "<pre style=\"white-space:pre;overflow-x:auto;line-height:normal;font-family:Menlo,'DejaVu Sans Mono',consolas,'Courier New',monospace\">┏━━━━━━━━━━━━━━━━━━━━━━━━━━━━━━━━━┳━━━━━━━━━━━━━━━━━━━━━━━━┳━━━━━━━━━━━━━━━┓\n",
       "┃<span style=\"font-weight: bold\"> Layer (type)                    </span>┃<span style=\"font-weight: bold\"> Output Shape           </span>┃<span style=\"font-weight: bold\">       Param # </span>┃\n",
       "┡━━━━━━━━━━━━━━━━━━━━━━━━━━━━━━━━━╇━━━━━━━━━━━━━━━━━━━━━━━━╇━━━━━━━━━━━━━━━┩\n",
       "│ bidirectional_9 (<span style=\"color: #0087ff; text-decoration-color: #0087ff\">Bidirectional</span>) │ (<span style=\"color: #00d7ff; text-decoration-color: #00d7ff\">None</span>, <span style=\"color: #00af00; text-decoration-color: #00af00\">1</span>, <span style=\"color: #00af00; text-decoration-color: #00af00\">256</span>)         │       <span style=\"color: #00af00; text-decoration-color: #00af00\">172,032</span> │\n",
       "├─────────────────────────────────┼────────────────────────┼───────────────┤\n",
       "│ dropout_27 (<span style=\"color: #0087ff; text-decoration-color: #0087ff\">Dropout</span>)            │ (<span style=\"color: #00d7ff; text-decoration-color: #00d7ff\">None</span>, <span style=\"color: #00af00; text-decoration-color: #00af00\">1</span>, <span style=\"color: #00af00; text-decoration-color: #00af00\">256</span>)         │             <span style=\"color: #00af00; text-decoration-color: #00af00\">0</span> │\n",
       "├─────────────────────────────────┼────────────────────────┼───────────────┤\n",
       "│ lstm_19 (<span style=\"color: #0087ff; text-decoration-color: #0087ff\">LSTM</span>)                  │ (<span style=\"color: #00d7ff; text-decoration-color: #00d7ff\">None</span>, <span style=\"color: #00af00; text-decoration-color: #00af00\">64</span>)             │        <span style=\"color: #00af00; text-decoration-color: #00af00\">82,176</span> │\n",
       "├─────────────────────────────────┼────────────────────────┼───────────────┤\n",
       "│ dropout_28 (<span style=\"color: #0087ff; text-decoration-color: #0087ff\">Dropout</span>)            │ (<span style=\"color: #00d7ff; text-decoration-color: #00d7ff\">None</span>, <span style=\"color: #00af00; text-decoration-color: #00af00\">64</span>)             │             <span style=\"color: #00af00; text-decoration-color: #00af00\">0</span> │\n",
       "├─────────────────────────────────┼────────────────────────┼───────────────┤\n",
       "│ dense_18 (<span style=\"color: #0087ff; text-decoration-color: #0087ff\">Dense</span>)                │ (<span style=\"color: #00d7ff; text-decoration-color: #00d7ff\">None</span>, <span style=\"color: #00af00; text-decoration-color: #00af00\">64</span>)             │         <span style=\"color: #00af00; text-decoration-color: #00af00\">4,160</span> │\n",
       "├─────────────────────────────────┼────────────────────────┼───────────────┤\n",
       "│ dropout_29 (<span style=\"color: #0087ff; text-decoration-color: #0087ff\">Dropout</span>)            │ (<span style=\"color: #00d7ff; text-decoration-color: #00d7ff\">None</span>, <span style=\"color: #00af00; text-decoration-color: #00af00\">64</span>)             │             <span style=\"color: #00af00; text-decoration-color: #00af00\">0</span> │\n",
       "├─────────────────────────────────┼────────────────────────┼───────────────┤\n",
       "│ dense_19 (<span style=\"color: #0087ff; text-decoration-color: #0087ff\">Dense</span>)                │ (<span style=\"color: #00d7ff; text-decoration-color: #00d7ff\">None</span>, <span style=\"color: #00af00; text-decoration-color: #00af00\">1</span>)              │            <span style=\"color: #00af00; text-decoration-color: #00af00\">65</span> │\n",
       "└─────────────────────────────────┴────────────────────────┴───────────────┘\n",
       "</pre>\n"
      ],
      "text/plain": [
       "┏━━━━━━━━━━━━━━━━━━━━━━━━━━━━━━━━━┳━━━━━━━━━━━━━━━━━━━━━━━━┳━━━━━━━━━━━━━━━┓\n",
       "┃\u001b[1m \u001b[0m\u001b[1mLayer (type)                   \u001b[0m\u001b[1m \u001b[0m┃\u001b[1m \u001b[0m\u001b[1mOutput Shape          \u001b[0m\u001b[1m \u001b[0m┃\u001b[1m \u001b[0m\u001b[1m      Param #\u001b[0m\u001b[1m \u001b[0m┃\n",
       "┡━━━━━━━━━━━━━━━━━━━━━━━━━━━━━━━━━╇━━━━━━━━━━━━━━━━━━━━━━━━╇━━━━━━━━━━━━━━━┩\n",
       "│ bidirectional_9 (\u001b[38;5;33mBidirectional\u001b[0m) │ (\u001b[38;5;45mNone\u001b[0m, \u001b[38;5;34m1\u001b[0m, \u001b[38;5;34m256\u001b[0m)         │       \u001b[38;5;34m172,032\u001b[0m │\n",
       "├─────────────────────────────────┼────────────────────────┼───────────────┤\n",
       "│ dropout_27 (\u001b[38;5;33mDropout\u001b[0m)            │ (\u001b[38;5;45mNone\u001b[0m, \u001b[38;5;34m1\u001b[0m, \u001b[38;5;34m256\u001b[0m)         │             \u001b[38;5;34m0\u001b[0m │\n",
       "├─────────────────────────────────┼────────────────────────┼───────────────┤\n",
       "│ lstm_19 (\u001b[38;5;33mLSTM\u001b[0m)                  │ (\u001b[38;5;45mNone\u001b[0m, \u001b[38;5;34m64\u001b[0m)             │        \u001b[38;5;34m82,176\u001b[0m │\n",
       "├─────────────────────────────────┼────────────────────────┼───────────────┤\n",
       "│ dropout_28 (\u001b[38;5;33mDropout\u001b[0m)            │ (\u001b[38;5;45mNone\u001b[0m, \u001b[38;5;34m64\u001b[0m)             │             \u001b[38;5;34m0\u001b[0m │\n",
       "├─────────────────────────────────┼────────────────────────┼───────────────┤\n",
       "│ dense_18 (\u001b[38;5;33mDense\u001b[0m)                │ (\u001b[38;5;45mNone\u001b[0m, \u001b[38;5;34m64\u001b[0m)             │         \u001b[38;5;34m4,160\u001b[0m │\n",
       "├─────────────────────────────────┼────────────────────────┼───────────────┤\n",
       "│ dropout_29 (\u001b[38;5;33mDropout\u001b[0m)            │ (\u001b[38;5;45mNone\u001b[0m, \u001b[38;5;34m64\u001b[0m)             │             \u001b[38;5;34m0\u001b[0m │\n",
       "├─────────────────────────────────┼────────────────────────┼───────────────┤\n",
       "│ dense_19 (\u001b[38;5;33mDense\u001b[0m)                │ (\u001b[38;5;45mNone\u001b[0m, \u001b[38;5;34m1\u001b[0m)              │            \u001b[38;5;34m65\u001b[0m │\n",
       "└─────────────────────────────────┴────────────────────────┴───────────────┘\n"
      ]
     },
     "metadata": {},
     "output_type": "display_data"
    },
    {
     "data": {
      "text/html": [
       "<pre style=\"white-space:pre;overflow-x:auto;line-height:normal;font-family:Menlo,'DejaVu Sans Mono',consolas,'Courier New',monospace\"><span style=\"font-weight: bold\"> Total params: </span><span style=\"color: #00af00; text-decoration-color: #00af00\">258,433</span> (1009.50 KB)\n",
       "</pre>\n"
      ],
      "text/plain": [
       "\u001b[1m Total params: \u001b[0m\u001b[38;5;34m258,433\u001b[0m (1009.50 KB)\n"
      ]
     },
     "metadata": {},
     "output_type": "display_data"
    },
    {
     "data": {
      "text/html": [
       "<pre style=\"white-space:pre;overflow-x:auto;line-height:normal;font-family:Menlo,'DejaVu Sans Mono',consolas,'Courier New',monospace\"><span style=\"font-weight: bold\"> Trainable params: </span><span style=\"color: #00af00; text-decoration-color: #00af00\">258,433</span> (1009.50 KB)\n",
       "</pre>\n"
      ],
      "text/plain": [
       "\u001b[1m Trainable params: \u001b[0m\u001b[38;5;34m258,433\u001b[0m (1009.50 KB)\n"
      ]
     },
     "metadata": {},
     "output_type": "display_data"
    },
    {
     "data": {
      "text/html": [
       "<pre style=\"white-space:pre;overflow-x:auto;line-height:normal;font-family:Menlo,'DejaVu Sans Mono',consolas,'Courier New',monospace\"><span style=\"font-weight: bold\"> Non-trainable params: </span><span style=\"color: #00af00; text-decoration-color: #00af00\">0</span> (0.00 B)\n",
       "</pre>\n"
      ],
      "text/plain": [
       "\u001b[1m Non-trainable params: \u001b[0m\u001b[38;5;34m0\u001b[0m (0.00 B)\n"
      ]
     },
     "metadata": {},
     "output_type": "display_data"
    },
    {
     "name": "stdout",
     "output_type": "stream",
     "text": [
      "Epoch 1/20\n",
      "\u001b[1m40/40\u001b[0m \u001b[32m━━━━━━━━━━━━━━━━━━━━\u001b[0m\u001b[37m\u001b[0m \u001b[1m3s\u001b[0m 10ms/step - accuracy: 0.3587 - loss: 0.6391 - val_accuracy: 0.3628 - val_loss: 0.3779\n",
      "Epoch 2/20\n",
      "\u001b[1m40/40\u001b[0m \u001b[32m━━━━━━━━━━━━━━━━━━━━\u001b[0m\u001b[37m\u001b[0m \u001b[1m0s\u001b[0m 5ms/step - accuracy: 0.3662 - loss: 0.2065 - val_accuracy: 0.3628 - val_loss: 0.0297\n",
      "Epoch 3/20\n",
      "\u001b[1m40/40\u001b[0m \u001b[32m━━━━━━━━━━━━━━━━━━━━\u001b[0m\u001b[37m\u001b[0m \u001b[1m0s\u001b[0m 4ms/step - accuracy: 0.3689 - loss: -0.1393 - val_accuracy: 0.3533 - val_loss: -0.2434\n",
      "Epoch 4/20\n",
      "\u001b[1m40/40\u001b[0m \u001b[32m━━━━━━━━━━━━━━━━━━━━\u001b[0m\u001b[37m\u001b[0m \u001b[1m0s\u001b[0m 5ms/step - accuracy: 0.3691 - loss: -1.0119 - val_accuracy: 0.3596 - val_loss: -0.7164\n",
      "Epoch 5/20\n",
      "\u001b[1m40/40\u001b[0m \u001b[32m━━━━━━━━━━━━━━━━━━━━\u001b[0m\u001b[37m\u001b[0m \u001b[1m0s\u001b[0m 5ms/step - accuracy: 0.3694 - loss: -1.7919 - val_accuracy: 0.3628 - val_loss: -1.5271\n",
      "Epoch 6/20\n",
      "\u001b[1m40/40\u001b[0m \u001b[32m━━━━━━━━━━━━━━━━━━━━\u001b[0m\u001b[37m\u001b[0m \u001b[1m0s\u001b[0m 5ms/step - accuracy: 0.3852 - loss: -4.6968 - val_accuracy: 0.3785 - val_loss: -2.6989\n",
      "Epoch 7/20\n",
      "\u001b[1m40/40\u001b[0m \u001b[32m━━━━━━━━━━━━━━━━━━━━\u001b[0m\u001b[37m\u001b[0m \u001b[1m0s\u001b[0m 5ms/step - accuracy: 0.3552 - loss: -7.0110 - val_accuracy: 0.3691 - val_loss: -4.6705\n",
      "Epoch 8/20\n",
      "\u001b[1m40/40\u001b[0m \u001b[32m━━━━━━━━━━━━━━━━━━━━\u001b[0m\u001b[37m\u001b[0m \u001b[1m0s\u001b[0m 5ms/step - accuracy: 0.3625 - loss: -12.8371 - val_accuracy: 0.3754 - val_loss: -6.9866\n",
      "Epoch 9/20\n",
      "\u001b[1m40/40\u001b[0m \u001b[32m━━━━━━━━━━━━━━━━━━━━\u001b[0m\u001b[37m\u001b[0m \u001b[1m0s\u001b[0m 6ms/step - accuracy: 0.3826 - loss: -15.1417 - val_accuracy: 0.3754 - val_loss: -9.9080\n",
      "Epoch 10/20\n",
      "\u001b[1m40/40\u001b[0m \u001b[32m━━━━━━━━━━━━━━━━━━━━\u001b[0m\u001b[37m\u001b[0m \u001b[1m0s\u001b[0m 5ms/step - accuracy: 0.3859 - loss: -19.4458 - val_accuracy: 0.3596 - val_loss: -12.7324\n",
      "Epoch 11/20\n",
      "\u001b[1m40/40\u001b[0m \u001b[32m━━━━━━━━━━━━━━━━━━━━\u001b[0m\u001b[37m\u001b[0m \u001b[1m0s\u001b[0m 5ms/step - accuracy: 0.3595 - loss: -32.5630 - val_accuracy: 0.3691 - val_loss: -16.3701\n",
      "Epoch 12/20\n",
      "\u001b[1m40/40\u001b[0m \u001b[32m━━━━━━━━━━━━━━━━━━━━\u001b[0m\u001b[37m\u001b[0m \u001b[1m0s\u001b[0m 5ms/step - accuracy: 0.3679 - loss: -42.1007 - val_accuracy: 0.3659 - val_loss: -18.7107\n",
      "Epoch 13/20\n",
      "\u001b[1m40/40\u001b[0m \u001b[32m━━━━━━━━━━━━━━━━━━━━\u001b[0m\u001b[37m\u001b[0m \u001b[1m0s\u001b[0m 5ms/step - accuracy: 0.3875 - loss: -39.1090 - val_accuracy: 0.3754 - val_loss: -24.5678\n",
      "Epoch 14/20\n",
      "\u001b[1m40/40\u001b[0m \u001b[32m━━━━━━━━━━━━━━━━━━━━\u001b[0m\u001b[37m\u001b[0m \u001b[1m0s\u001b[0m 5ms/step - accuracy: 0.3892 - loss: -46.2091 - val_accuracy: 0.3912 - val_loss: -31.4264\n",
      "Epoch 15/20\n",
      "\u001b[1m40/40\u001b[0m \u001b[32m━━━━━━━━━━━━━━━━━━━━\u001b[0m\u001b[37m\u001b[0m \u001b[1m0s\u001b[0m 5ms/step - accuracy: 0.3788 - loss: -64.5378 - val_accuracy: 0.3817 - val_loss: -33.5190\n",
      "Epoch 16/20\n",
      "\u001b[1m40/40\u001b[0m \u001b[32m━━━━━━━━━━━━━━━━━━━━\u001b[0m\u001b[37m\u001b[0m \u001b[1m0s\u001b[0m 5ms/step - accuracy: 0.3669 - loss: -83.9754 - val_accuracy: 0.3975 - val_loss: -43.3841\n",
      "Epoch 17/20\n",
      "\u001b[1m40/40\u001b[0m \u001b[32m━━━━━━━━━━━━━━━━━━━━\u001b[0m\u001b[37m\u001b[0m \u001b[1m0s\u001b[0m 5ms/step - accuracy: 0.4031 - loss: -87.3994 - val_accuracy: 0.3817 - val_loss: -51.7378\n",
      "Epoch 18/20\n",
      "\u001b[1m40/40\u001b[0m \u001b[32m━━━━━━━━━━━━━━━━━━━━\u001b[0m\u001b[37m\u001b[0m \u001b[1m0s\u001b[0m 6ms/step - accuracy: 0.3899 - loss: -131.2718 - val_accuracy: 0.3880 - val_loss: -61.5271\n",
      "Epoch 19/20\n",
      "\u001b[1m40/40\u001b[0m \u001b[32m━━━━━━━━━━━━━━━━━━━━\u001b[0m\u001b[37m\u001b[0m \u001b[1m0s\u001b[0m 5ms/step - accuracy: 0.3887 - loss: -109.1903 - val_accuracy: 0.3943 - val_loss: -65.7214\n",
      "Epoch 20/20\n",
      "\u001b[1m40/40\u001b[0m \u001b[32m━━━━━━━━━━━━━━━━━━━━\u001b[0m\u001b[37m\u001b[0m \u001b[1m0s\u001b[0m 6ms/step - accuracy: 0.3941 - loss: -139.1919 - val_accuracy: 0.3785 - val_loss: -74.4944\n",
      "\u001b[1m10/10\u001b[0m \u001b[32m━━━━━━━━━━━━━━━━━━━━\u001b[0m\u001b[37m\u001b[0m \u001b[1m0s\u001b[0m 23ms/step\n",
      "\u001b[1m22/22\u001b[0m \u001b[32m━━━━━━━━━━━━━━━━━━━━\u001b[0m\u001b[37m\u001b[0m \u001b[1m0s\u001b[0m 2ms/step \n",
      "{'validation': {'loss': -74.49439239501953, 'accuracy': 0.37854889035224915, 'classification_report': {'0': {'precision': 0.5909090909090909, 'recall': 0.11304347826086956, 'f1-score': 0.1897810218978102, 'support': 115.0}, '1': {'precision': 0.36271186440677966, 'recall': 0.9304347826086956, 'f1-score': 0.5219512195121951, 'support': 115.0}, '2': {'precision': 0.0, 'recall': 0.0, 'f1-score': 0.0, 'support': 87.0}, 'accuracy': 0.3785488958990536, 'macro avg': {'precision': 0.31787365177195687, 'recall': 0.34782608695652173, 'f1-score': 0.23724408047000178, 'support': 317.0}, 'weighted avg': {'precision': 0.34595081975181424, 'recall': 0.3785488958990536, 'f1-score': 0.25819939357145305, 'support': 317.0}}}, 'test': {'loss': -144.0868377685547, 'accuracy': 0.36725664138793945, 'classification_report': {'0': {'precision': 0.5217391304347826, 'recall': 0.0975609756097561, 'f1-score': 0.1643835616438356, 'support': 246.0}, '1': {'precision': 0.3560126582278481, 'recall': 0.9146341463414634, 'f1-score': 0.5125284738041003, 'support': 246.0}, '2': {'precision': 0.0, 'recall': 0.0, 'f1-score': 0.0, 'support': 186.0}, 'accuracy': 0.3672566371681416, 'macro avg': {'precision': 0.29258392955421025, 'recall': 0.33739837398373984, 'f1-score': 0.22563734514931197, 'support': 678.0}, 'weighted avg': {'precision': 0.3184763127006005, 'recall': 0.3672566371681416, 'f1-score': 0.24560525179969356, 'support': 678.0}}}}\n",
      "> Creating report metrics dataframe\n",
      "> Saving metrics\n",
      "Path: data_ml/2025-02-08_ml_LSTM_results_I_ENR.csv\n"
     ]
    },
    {
     "name": "stderr",
     "output_type": "stream",
     "text": [
      "/Library/Frameworks/Python.framework/Versions/3.12/lib/python3.12/site-packages/sklearn/metrics/_classification.py:1509: UndefinedMetricWarning: Precision is ill-defined and being set to 0.0 in labels with no predicted samples. Use `zero_division` parameter to control this behavior.\n",
      "  _warn_prf(average, modifier, f\"{metric.capitalize()} is\", len(result))\n",
      "/Library/Frameworks/Python.framework/Versions/3.12/lib/python3.12/site-packages/sklearn/metrics/_classification.py:1509: UndefinedMetricWarning: Precision is ill-defined and being set to 0.0 in labels with no predicted samples. Use `zero_division` parameter to control this behavior.\n",
      "  _warn_prf(average, modifier, f\"{metric.capitalize()} is\", len(result))\n",
      "/Library/Frameworks/Python.framework/Versions/3.12/lib/python3.12/site-packages/sklearn/metrics/_classification.py:1509: UndefinedMetricWarning: Precision is ill-defined and being set to 0.0 in labels with no predicted samples. Use `zero_division` parameter to control this behavior.\n",
      "  _warn_prf(average, modifier, f\"{metric.capitalize()} is\", len(result))\n",
      "/Library/Frameworks/Python.framework/Versions/3.12/lib/python3.12/site-packages/sklearn/metrics/_classification.py:1509: UndefinedMetricWarning: Precision is ill-defined and being set to 0.0 in labels with no predicted samples. Use `zero_division` parameter to control this behavior.\n",
      "  _warn_prf(average, modifier, f\"{metric.capitalize()} is\", len(result))\n",
      "/Library/Frameworks/Python.framework/Versions/3.12/lib/python3.12/site-packages/sklearn/metrics/_classification.py:1509: UndefinedMetricWarning: Precision is ill-defined and being set to 0.0 in labels with no predicted samples. Use `zero_division` parameter to control this behavior.\n",
      "  _warn_prf(average, modifier, f\"{metric.capitalize()} is\", len(result))\n",
      "/Library/Frameworks/Python.framework/Versions/3.12/lib/python3.12/site-packages/sklearn/metrics/_classification.py:1509: UndefinedMetricWarning: Precision is ill-defined and being set to 0.0 in labels with no predicted samples. Use `zero_division` parameter to control this behavior.\n",
      "  _warn_prf(average, modifier, f\"{metric.capitalize()} is\", len(result))\n"
     ]
    }
   ],
   "source": [
    "# -------------------------------\n",
    "# Data Splitting: Create training+validation and test sets (70% for training+validation, 30% for testing)\n",
    "# -------------------------------\n",
    "X_temp, X_test, y_temp, y_test = train_test_split(\n",
    "    X, y, test_size=0.3, random_state=42, stratify=y\n",
    ")\n",
    "\n",
    "# Further split the training+validation set into training and validation sets (80% for training, 20% for validation)\n",
    "X_train, X_val, y_train, y_val = train_test_split(\n",
    "    X_temp, y_temp, test_size=0.2, random_state=42, stratify=y_temp\n",
    ")\n",
    "\n",
    "# -------------------------------\n",
    "# Standardise the features using StandardScaler\n",
    "# -------------------------------\n",
    "scaler = StandardScaler()\n",
    "X_train_scaled = scaler.fit_transform(X_train)\n",
    "X_val_scaled   = scaler.transform(X_val)\n",
    "X_test_scaled  = scaler.transform(X_test)\n",
    "\n",
    "# -------------------------------\n",
    "# Reshape the data for LSTM input\n",
    "# LSTM models require a 3D input: (samples, timesteps, features).\n",
    "# Since our data is not sequential, we use 1 time step.\n",
    "# -------------------------------\n",
    "X_train_lstm = X_train_scaled.reshape((X_train_scaled.shape[0], 1, X_train_scaled.shape[1]))\n",
    "X_val_lstm   = X_val_scaled.reshape((X_val_scaled.shape[0], 1, X_val_scaled.shape[1]))\n",
    "X_test_lstm  = X_test_scaled.reshape((X_test_scaled.shape[0], 1, X_test_scaled.shape[1]))\n",
    "\n",
    "# -------------------------------\n",
    "# Build the LSTM Model\n",
    "# -------------------------------\n",
    "n_features = X_train_lstm.shape[2]  # Number of features per time step\n",
    "\n",
    "model = Sequential()\n",
    "# model.add(LSTM(64, input_shape=(1, n_features), return_sequences=False))\n",
    "# model.add(Dropout(0.2))\n",
    "# model.add(Dense(1, activation='sigmoid'))  # Use sigmoid for binary classification\n",
    "\n",
    "\n",
    "model.add(Bidirectional(LSTM(128, return_sequences=True), input_shape=(1, n_features)))\n",
    "model.add(Dropout(0.3))\n",
    "model.add(LSTM(64, return_sequences=False))\n",
    "model.add(Dropout(0.2))\n",
    "model.add(Dense(64, activation='relu'))\n",
    "model.add(Dropout(0.2))\n",
    "model.add(Dense(1, activation='sigmoid'))\n",
    "\n",
    "# Compile the model with binary cross-entropy loss and Adam optimiser\n",
    "model.compile(optimizer='adam', loss='binary_crossentropy', metrics=['accuracy'])\n",
    "model.summary()\n",
    "\n",
    "# -------------------------------\n",
    "# Train the Model with Early Stopping to keep training times short\n",
    "# -------------------------------\n",
    "early_stop = EarlyStopping(monitor='val_loss', patience=3, restore_best_weights=True)\n",
    "\n",
    "history = model.fit(\n",
    "    X_train_lstm, y_train,\n",
    "    epochs=20,                # Set a low number of epochs; early stopping will help prevent overtraining\n",
    "    batch_size=32,\n",
    "    validation_data=(X_val_lstm, y_val),\n",
    "    callbacks=[early_stop],\n",
    "    verbose=1\n",
    ")\n",
    "\n",
    "# -------------------------------\n",
    "# Evaluate the Model and Build the Metrics Dictionary\n",
    "# -------------------------------\n",
    "\n",
    "# Evaluate on the validation set\n",
    "val_loss, val_accuracy = model.evaluate(X_val_lstm, y_val, verbose=0)\n",
    "# Obtain predictions (thresholding at 0.5 for binary classification)\n",
    "val_pred_probs = model.predict(X_val_lstm)\n",
    "val_preds = (val_pred_probs > 0.5).astype(int)\n",
    "# Create a classification report dictionary for validation data\n",
    "val_report = classification_report(y_val, val_preds, output_dict=True)\n",
    "\n",
    "# Evaluate on the test set\n",
    "test_loss, test_accuracy = model.evaluate(X_test_lstm, y_test, verbose=0)\n",
    "test_pred_probs = model.predict(X_test_lstm)\n",
    "test_preds = (test_pred_probs > 0.5).astype(int)\n",
    "test_report = classification_report(y_test, test_preds, output_dict=True)\n",
    "\n",
    "# Create an evaluation dictionary similar to the one for the RandomForest model\n",
    "evaluation_metrics = {\n",
    "    'validation': {\n",
    "         'loss': val_loss,\n",
    "         'accuracy': val_accuracy,\n",
    "         'classification_report': val_report\n",
    "    },\n",
    "    'test': {\n",
    "         'loss': test_loss,\n",
    "         'accuracy': test_accuracy,\n",
    "         'classification_report': test_report\n",
    "    }\n",
    "}\n",
    "\n",
    "# Print the evaluation metrics dictionary\n",
    "print(evaluation_metrics)\n",
    "\n",
    "# Save the classification_report as file\n",
    "print(\"> Creating report metrics dataframe\")\n",
    "df_report = save_model_report(report_dict, encoding_type, \"LSTM\", ml_dir, ml_file, prediction_type, False)"
   ]
  },
  {
   "cell_type": "code",
   "execution_count": 524,
   "metadata": {},
   "outputs": [
    {
     "name": "stdout",
     "output_type": "stream",
     "text": [
      "{'validation': {'loss': -74.49439239501953, 'accuracy': 0.37854889035224915, 'classification_report': {'0': {'precision': 0.5909090909090909, 'recall': 0.11304347826086956, 'f1-score': 0.1897810218978102, 'support': 115.0}, '1': {'precision': 0.36271186440677966, 'recall': 0.9304347826086956, 'f1-score': 0.5219512195121951, 'support': 115.0}, '2': {'precision': 0.0, 'recall': 0.0, 'f1-score': 0.0, 'support': 87.0}, 'accuracy': 0.3785488958990536, 'macro avg': {'precision': 0.31787365177195687, 'recall': 0.34782608695652173, 'f1-score': 0.23724408047000178, 'support': 317.0}, 'weighted avg': {'precision': 0.34595081975181424, 'recall': 0.3785488958990536, 'f1-score': 0.25819939357145305, 'support': 317.0}}}, 'test': {'loss': -144.0868377685547, 'accuracy': 0.36725664138793945, 'classification_report': {'0': {'precision': 0.5217391304347826, 'recall': 0.0975609756097561, 'f1-score': 0.1643835616438356, 'support': 246.0}, '1': {'precision': 0.3560126582278481, 'recall': 0.9146341463414634, 'f1-score': 0.5125284738041003, 'support': 246.0}, '2': {'precision': 0.0, 'recall': 0.0, 'f1-score': 0.0, 'support': 186.0}, 'accuracy': 0.3672566371681416, 'macro avg': {'precision': 0.29258392955421025, 'recall': 0.33739837398373984, 'f1-score': 0.22563734514931197, 'support': 678.0}, 'weighted avg': {'precision': 0.3184763127006005, 'recall': 0.3672566371681416, 'f1-score': 0.24560525179969356, 'support': 678.0}}}}\n"
     ]
    }
   ],
   "source": [
    "print(evaluation_metrics)"
   ]
  },
  {
   "cell_type": "markdown",
   "metadata": {},
   "source": [
    "# Aggregate the results"
   ]
  },
  {
   "cell_type": "code",
   "execution_count": 531,
   "metadata": {},
   "outputs": [
    {
     "name": "stdout",
     "output_type": "stream",
     "text": [
      "File _2025-02-08_ml_AGG_results.csv does not contain the required columns.\n",
      "Files with extension 'csv' read: 19\n",
      "\n",
      "Final dataset length: 18\n",
      "\n",
      "Final dataset length: 18\n"
     ]
    }
   ],
   "source": [
    "df_results_agg = aggregate_csv_results(ml_dir, \"csv\", \"_fimp\")\n",
    "print(\"Final dataset length:\", len(df_results_agg))"
   ]
  },
  {
   "cell_type": "code",
   "execution_count": 532,
   "metadata": {},
   "outputs": [
    {
     "data": {
      "text/html": [
       "<div>\n",
       "<style scoped>\n",
       "    .dataframe tbody tr th:only-of-type {\n",
       "        vertical-align: middle;\n",
       "    }\n",
       "\n",
       "    .dataframe tbody tr th {\n",
       "        vertical-align: top;\n",
       "    }\n",
       "\n",
       "    .dataframe thead th {\n",
       "        text-align: right;\n",
       "    }\n",
       "</style>\n",
       "<table border=\"1\" class=\"dataframe\">\n",
       "  <thead>\n",
       "    <tr style=\"text-align: right;\">\n",
       "      <th></th>\n",
       "      <th>ModelName</th>\n",
       "      <th>FieldNotes</th>\n",
       "      <th>Encoding</th>\n",
       "      <th>Avg precision</th>\n",
       "      <th>Avg recall</th>\n",
       "      <th>Avg f1-score</th>\n",
       "    </tr>\n",
       "  </thead>\n",
       "  <tbody>\n",
       "    <tr>\n",
       "      <th>1</th>\n",
       "      <td>LSTM</td>\n",
       "      <td>1</td>\n",
       "      <td>B</td>\n",
       "      <td>0.806</td>\n",
       "      <td>0.795</td>\n",
       "      <td>0.798</td>\n",
       "    </tr>\n",
       "    <tr>\n",
       "      <th>13</th>\n",
       "      <td>XGB</td>\n",
       "      <td>1</td>\n",
       "      <td>B</td>\n",
       "      <td>0.806</td>\n",
       "      <td>0.795</td>\n",
       "      <td>0.798</td>\n",
       "    </tr>\n",
       "    <tr>\n",
       "      <th>17</th>\n",
       "      <td>XGB</td>\n",
       "      <td>1</td>\n",
       "      <td>I</td>\n",
       "      <td>0.785</td>\n",
       "      <td>0.778</td>\n",
       "      <td>0.781</td>\n",
       "    </tr>\n",
       "    <tr>\n",
       "      <th>3</th>\n",
       "      <td>LSTM</td>\n",
       "      <td>1</td>\n",
       "      <td>F</td>\n",
       "      <td>0.783</td>\n",
       "      <td>0.780</td>\n",
       "      <td>0.781</td>\n",
       "    </tr>\n",
       "    <tr>\n",
       "      <th>15</th>\n",
       "      <td>XGB</td>\n",
       "      <td>1</td>\n",
       "      <td>F</td>\n",
       "      <td>0.783</td>\n",
       "      <td>0.780</td>\n",
       "      <td>0.781</td>\n",
       "    </tr>\n",
       "    <tr>\n",
       "      <th>5</th>\n",
       "      <td>LSTM</td>\n",
       "      <td>1</td>\n",
       "      <td>I</td>\n",
       "      <td>0.785</td>\n",
       "      <td>0.778</td>\n",
       "      <td>0.781</td>\n",
       "    </tr>\n",
       "    <tr>\n",
       "      <th>2</th>\n",
       "      <td>LSTM</td>\n",
       "      <td>0</td>\n",
       "      <td>F</td>\n",
       "      <td>0.779</td>\n",
       "      <td>0.771</td>\n",
       "      <td>0.774</td>\n",
       "    </tr>\n",
       "    <tr>\n",
       "      <th>14</th>\n",
       "      <td>XGB</td>\n",
       "      <td>0</td>\n",
       "      <td>F</td>\n",
       "      <td>0.779</td>\n",
       "      <td>0.771</td>\n",
       "      <td>0.774</td>\n",
       "    </tr>\n",
       "    <tr>\n",
       "      <th>12</th>\n",
       "      <td>XGB</td>\n",
       "      <td>0</td>\n",
       "      <td>B</td>\n",
       "      <td>0.777</td>\n",
       "      <td>0.768</td>\n",
       "      <td>0.771</td>\n",
       "    </tr>\n",
       "    <tr>\n",
       "      <th>0</th>\n",
       "      <td>LSTM</td>\n",
       "      <td>0</td>\n",
       "      <td>B</td>\n",
       "      <td>0.777</td>\n",
       "      <td>0.768</td>\n",
       "      <td>0.771</td>\n",
       "    </tr>\n",
       "  </tbody>\n",
       "</table>\n",
       "</div>"
      ],
      "text/plain": [
       "   ModelName  FieldNotes Encoding  Avg precision  Avg recall  Avg f1-score\n",
       "1       LSTM           1        B          0.806       0.795         0.798\n",
       "13       XGB           1        B          0.806       0.795         0.798\n",
       "17       XGB           1        I          0.785       0.778         0.781\n",
       "3       LSTM           1        F          0.783       0.780         0.781\n",
       "15       XGB           1        F          0.783       0.780         0.781\n",
       "5       LSTM           1        I          0.785       0.778         0.781\n",
       "2       LSTM           0        F          0.779       0.771         0.774\n",
       "14       XGB           0        F          0.779       0.771         0.774\n",
       "12       XGB           0        B          0.777       0.768         0.771\n",
       "0       LSTM           0        B          0.777       0.768         0.771"
      ]
     },
     "execution_count": 532,
     "metadata": {},
     "output_type": "execute_result"
    }
   ],
   "source": [
    "df_results_agg.head(10)"
   ]
  },
  {
   "cell_type": "code",
   "execution_count": 534,
   "metadata": {},
   "outputs": [
    {
     "name": "stdout",
     "output_type": "stream",
     "text": [
      "> Saving aggregated results\n",
      "Saving to: data_ml/_2025-02-08_ml_AGG_results.csv\n"
     ]
    }
   ],
   "source": [
    "print(\"> Saving aggregated results\")\n",
    "current_date_string = datetime.now().strftime(\"%Y-%m-%d\")\n",
    "file_out = f\"_{current_date_string}_ml_AGG_results.csv\"\n",
    "path_out = Path(ml_dir) / file_out\n",
    "print(\"Saving to:\", path_out)\n",
    "df_results_agg.to_csv(path_out, sep=\";\", index=False)"
   ]
  },
  {
   "cell_type": "code",
   "execution_count": 535,
   "metadata": {},
   "outputs": [
    {
     "name": "stdout",
     "output_type": "stream",
     "text": [
      "\n",
      "End process\n",
      "Script finished at: 2025-02-08 15:08:32\n",
      "Time to finish (0:08:59): 8 minutes, 59 seconds\n"
     ]
    }
   ],
   "source": [
    "end_time = datetime.now().replace(microsecond=0)\n",
    "delta_time = end_time - start_time\n",
    "total_seconds = int(delta_time.total_seconds())\n",
    "minutes, seconds = divmod(total_seconds, 60)\n",
    "\n",
    "print()\n",
    "print(\"End process\")\n",
    "print(\"Script finished at:\",  datetime.now().strftime(\"%Y-%m-%d %H:%M:%S\"))\n",
    "print(f\"Time to finish ({delta_time}): {minutes} minutes, {seconds} seconds\")"
   ]
  },
  {
   "cell_type": "code",
   "execution_count": 536,
   "metadata": {},
   "outputs": [
    {
     "name": "stdout",
     "output_type": "stream",
     "text": [
      "\n",
      "*** PROGRAM START ***\n",
      "\n"
     ]
    }
   ],
   "source": [
    "print()\n",
    "print(\"*** PROGRAM START ***\")\n",
    "print()"
   ]
  }
 ],
 "metadata": {
  "kernelspec": {
   "display_name": "Python 3",
   "language": "python",
   "name": "python3"
  },
  "language_info": {
   "codemirror_mode": {
    "name": "ipython",
    "version": 3
   },
   "file_extension": ".py",
   "mimetype": "text/x-python",
   "name": "python",
   "nbconvert_exporter": "python",
   "pygments_lexer": "ipython3",
   "version": "3.12.2"
  }
 },
 "nbformat": 4,
 "nbformat_minor": 2
}
